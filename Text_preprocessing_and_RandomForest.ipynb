{
  "nbformat": 4,
  "nbformat_minor": 0,
  "metadata": {
    "colab": {
      "name": "Text_preprocessing and RandomForest.ipynb",
      "provenance": [],
      "collapsed_sections": [],
      "authorship_tag": "ABX9TyPogzci42cvby0MichVSg1N",
      "include_colab_link": true
    },
    "kernelspec": {
      "name": "python3",
      "display_name": "Python 3"
    },
    "language_info": {
      "name": "python"
    }
  },
  "cells": [
    {
      "cell_type": "markdown",
      "metadata": {
        "id": "view-in-github",
        "colab_type": "text"
      },
      "source": [
        "<a href=\"https://colab.research.google.com/github/Bonumchetty/project_rakuten/blob/main/Text_preprocessing_and_RandomForest.ipynb\" target=\"_parent\"><img src=\"https://colab.research.google.com/assets/colab-badge.svg\" alt=\"Open In Colab\"/></a>"
      ]
    },
    {
      "cell_type": "code",
      "execution_count": null,
      "metadata": {
        "colab": {
          "base_uri": "https://localhost:8080/"
        },
        "id": "7eMT-ZZetWa_",
        "outputId": "603662f8-62c4-44de-fe5d-9404974f7f5b"
      },
      "outputs": [
        {
          "output_type": "stream",
          "name": "stdout",
          "text": [
            "Mounted at /content/drive\n"
          ]
        }
      ],
      "source": [
        "from google.colab import drive\n",
        "drive.mount('/content/drive', force_remount=True)"
      ]
    },
    {
      "cell_type": "code",
      "source": [
        "# importing dependencies\n",
        "import pandas as pd\n",
        "import numpy as np\n",
        "import re\n",
        "import os\n",
        "%matplotlib inline\n",
        "import matplotlib.pyplot as plt\n",
        "import seaborn as sns\n",
        "import nltk\n",
        "nltk.download('stopwords')\n",
        "nltk.download('punkt')\n",
        "from nltk.corpus import stopwords\n",
        "from nltk.tokenize import sent_tokenize\n",
        "from nltk.tokenize import word_tokenize\n",
        "from sklearn.feature_extraction.text import TfidfVectorizer\n",
        "from sklearn import ensemble\n",
        "from sklearn.model_selection import train_test_split\n",
        "from sklearn.metrics import accuracy_score, confusion_matrix, classification_report, f1_score\n",
        "from collections import OrderedDict\n",
        "from sklearn.datasets import make_classification\n",
        "from sklearn.ensemble import RandomForestClassifier"
      ],
      "metadata": {
        "colab": {
          "base_uri": "https://localhost:8080/"
        },
        "id": "DWrTKCEK2_8z",
        "outputId": "3313a078-c570-400b-ffc7-c2fea93c0623"
      },
      "execution_count": null,
      "outputs": [
        {
          "output_type": "stream",
          "name": "stdout",
          "text": [
            "[nltk_data] Downloading package stopwords to /root/nltk_data...\n",
            "[nltk_data]   Unzipping corpora/stopwords.zip.\n",
            "[nltk_data] Downloading package punkt to /root/nltk_data...\n",
            "[nltk_data]   Unzipping tokenizers/punkt.zip.\n"
          ]
        }
      ]
    },
    {
      "cell_type": "code",
      "source": [
        "path = '/content/drive/MyDrive/DATASCIENTIST/project/'"
      ],
      "metadata": {
        "id": "up2lPaElT20-"
      },
      "execution_count": null,
      "outputs": []
    },
    {
      "cell_type": "code",
      "source": [
        "# Import train and test data \n",
        "X_train = pd.read_csv(path + 'Data/X_train_update.csv', index_col = 0)\n",
        "Y_train = pd.read_csv(path +'Data/Y_train_CVw08PX.csv', index_col = 0) \n",
        "X_test = pd.read_csv(path +'Data/X_test_update.csv', index_col = 0)"
      ],
      "metadata": {
        "id": "9rNfJLlJvROs"
      },
      "execution_count": null,
      "outputs": []
    },
    {
      "cell_type": "markdown",
      "source": [
        "# PRE-PROCESSING:\n",
        "## INPUT DATA ANALYSIS:"
      ],
      "metadata": {
        "id": "WAnQohMxxDMy"
      }
    },
    {
      "cell_type": "code",
      "source": [
        "# check and display X_train dataset info and 5 rows\n",
        "X_train.info()\n",
        "X_train.head()"
      ],
      "metadata": {
        "colab": {
          "base_uri": "https://localhost:8080/",
          "height": 397
        },
        "id": "Hjij4Bt7vSv1",
        "outputId": "443ae354-ce71-41ca-9d24-5e25d50b4ceb"
      },
      "execution_count": null,
      "outputs": [
        {
          "output_type": "stream",
          "name": "stdout",
          "text": [
            "<class 'pandas.core.frame.DataFrame'>\n",
            "Int64Index: 84916 entries, 0 to 84915\n",
            "Data columns (total 4 columns):\n",
            " #   Column       Non-Null Count  Dtype \n",
            "---  ------       --------------  ----- \n",
            " 0   designation  84916 non-null  object\n",
            " 1   description  55116 non-null  object\n",
            " 2   productid    84916 non-null  int64 \n",
            " 3   imageid      84916 non-null  int64 \n",
            "dtypes: int64(2), object(2)\n",
            "memory usage: 3.2+ MB\n"
          ]
        },
        {
          "output_type": "execute_result",
          "data": {
            "text/plain": [
              "                                         designation  \\\n",
              "0  Olivia: Personalisiertes Notizbuch / 150 Seite...   \n",
              "1  Journal Des Arts (Le) N° 133 Du 28/09/2001 - L...   \n",
              "2  Grand Stylet Ergonomique Bleu Gamepad Nintendo...   \n",
              "3  Peluche Donald - Europe - Disneyland 2000 (Mar...   \n",
              "4                               La Guerre Des Tuques   \n",
              "\n",
              "                                         description   productid     imageid  \n",
              "0                                                NaN  3804725264  1263597046  \n",
              "1                                                NaN   436067568  1008141237  \n",
              "2  PILOT STYLE Touch Pen de marque Speedlink est ...   201115110   938777978  \n",
              "3                                                NaN    50418756   457047496  \n",
              "4  Luc a des id&eacute;es de grandeur. Il veut or...   278535884  1077757786  "
            ],
            "text/html": [
              "\n",
              "  <div id=\"df-4e765959-e8ca-4984-9e71-4433ef5e75e3\">\n",
              "    <div class=\"colab-df-container\">\n",
              "      <div>\n",
              "<style scoped>\n",
              "    .dataframe tbody tr th:only-of-type {\n",
              "        vertical-align: middle;\n",
              "    }\n",
              "\n",
              "    .dataframe tbody tr th {\n",
              "        vertical-align: top;\n",
              "    }\n",
              "\n",
              "    .dataframe thead th {\n",
              "        text-align: right;\n",
              "    }\n",
              "</style>\n",
              "<table border=\"1\" class=\"dataframe\">\n",
              "  <thead>\n",
              "    <tr style=\"text-align: right;\">\n",
              "      <th></th>\n",
              "      <th>designation</th>\n",
              "      <th>description</th>\n",
              "      <th>productid</th>\n",
              "      <th>imageid</th>\n",
              "    </tr>\n",
              "  </thead>\n",
              "  <tbody>\n",
              "    <tr>\n",
              "      <th>0</th>\n",
              "      <td>Olivia: Personalisiertes Notizbuch / 150 Seite...</td>\n",
              "      <td>NaN</td>\n",
              "      <td>3804725264</td>\n",
              "      <td>1263597046</td>\n",
              "    </tr>\n",
              "    <tr>\n",
              "      <th>1</th>\n",
              "      <td>Journal Des Arts (Le) N° 133 Du 28/09/2001 - L...</td>\n",
              "      <td>NaN</td>\n",
              "      <td>436067568</td>\n",
              "      <td>1008141237</td>\n",
              "    </tr>\n",
              "    <tr>\n",
              "      <th>2</th>\n",
              "      <td>Grand Stylet Ergonomique Bleu Gamepad Nintendo...</td>\n",
              "      <td>PILOT STYLE Touch Pen de marque Speedlink est ...</td>\n",
              "      <td>201115110</td>\n",
              "      <td>938777978</td>\n",
              "    </tr>\n",
              "    <tr>\n",
              "      <th>3</th>\n",
              "      <td>Peluche Donald - Europe - Disneyland 2000 (Mar...</td>\n",
              "      <td>NaN</td>\n",
              "      <td>50418756</td>\n",
              "      <td>457047496</td>\n",
              "    </tr>\n",
              "    <tr>\n",
              "      <th>4</th>\n",
              "      <td>La Guerre Des Tuques</td>\n",
              "      <td>Luc a des id&amp;eacute;es de grandeur. Il veut or...</td>\n",
              "      <td>278535884</td>\n",
              "      <td>1077757786</td>\n",
              "    </tr>\n",
              "  </tbody>\n",
              "</table>\n",
              "</div>\n",
              "      <button class=\"colab-df-convert\" onclick=\"convertToInteractive('df-4e765959-e8ca-4984-9e71-4433ef5e75e3')\"\n",
              "              title=\"Convert this dataframe to an interactive table.\"\n",
              "              style=\"display:none;\">\n",
              "        \n",
              "  <svg xmlns=\"http://www.w3.org/2000/svg\" height=\"24px\"viewBox=\"0 0 24 24\"\n",
              "       width=\"24px\">\n",
              "    <path d=\"M0 0h24v24H0V0z\" fill=\"none\"/>\n",
              "    <path d=\"M18.56 5.44l.94 2.06.94-2.06 2.06-.94-2.06-.94-.94-2.06-.94 2.06-2.06.94zm-11 1L8.5 8.5l.94-2.06 2.06-.94-2.06-.94L8.5 2.5l-.94 2.06-2.06.94zm10 10l.94 2.06.94-2.06 2.06-.94-2.06-.94-.94-2.06-.94 2.06-2.06.94z\"/><path d=\"M17.41 7.96l-1.37-1.37c-.4-.4-.92-.59-1.43-.59-.52 0-1.04.2-1.43.59L10.3 9.45l-7.72 7.72c-.78.78-.78 2.05 0 2.83L4 21.41c.39.39.9.59 1.41.59.51 0 1.02-.2 1.41-.59l7.78-7.78 2.81-2.81c.8-.78.8-2.07 0-2.86zM5.41 20L4 18.59l7.72-7.72 1.47 1.35L5.41 20z\"/>\n",
              "  </svg>\n",
              "      </button>\n",
              "      \n",
              "  <style>\n",
              "    .colab-df-container {\n",
              "      display:flex;\n",
              "      flex-wrap:wrap;\n",
              "      gap: 12px;\n",
              "    }\n",
              "\n",
              "    .colab-df-convert {\n",
              "      background-color: #E8F0FE;\n",
              "      border: none;\n",
              "      border-radius: 50%;\n",
              "      cursor: pointer;\n",
              "      display: none;\n",
              "      fill: #1967D2;\n",
              "      height: 32px;\n",
              "      padding: 0 0 0 0;\n",
              "      width: 32px;\n",
              "    }\n",
              "\n",
              "    .colab-df-convert:hover {\n",
              "      background-color: #E2EBFA;\n",
              "      box-shadow: 0px 1px 2px rgba(60, 64, 67, 0.3), 0px 1px 3px 1px rgba(60, 64, 67, 0.15);\n",
              "      fill: #174EA6;\n",
              "    }\n",
              "\n",
              "    [theme=dark] .colab-df-convert {\n",
              "      background-color: #3B4455;\n",
              "      fill: #D2E3FC;\n",
              "    }\n",
              "\n",
              "    [theme=dark] .colab-df-convert:hover {\n",
              "      background-color: #434B5C;\n",
              "      box-shadow: 0px 1px 3px 1px rgba(0, 0, 0, 0.15);\n",
              "      filter: drop-shadow(0px 1px 2px rgba(0, 0, 0, 0.3));\n",
              "      fill: #FFFFFF;\n",
              "    }\n",
              "  </style>\n",
              "\n",
              "      <script>\n",
              "        const buttonEl =\n",
              "          document.querySelector('#df-4e765959-e8ca-4984-9e71-4433ef5e75e3 button.colab-df-convert');\n",
              "        buttonEl.style.display =\n",
              "          google.colab.kernel.accessAllowed ? 'block' : 'none';\n",
              "\n",
              "        async function convertToInteractive(key) {\n",
              "          const element = document.querySelector('#df-4e765959-e8ca-4984-9e71-4433ef5e75e3');\n",
              "          const dataTable =\n",
              "            await google.colab.kernel.invokeFunction('convertToInteractive',\n",
              "                                                     [key], {});\n",
              "          if (!dataTable) return;\n",
              "\n",
              "          const docLinkHtml = 'Like what you see? Visit the ' +\n",
              "            '<a target=\"_blank\" href=https://colab.research.google.com/notebooks/data_table.ipynb>data table notebook</a>'\n",
              "            + ' to learn more about interactive tables.';\n",
              "          element.innerHTML = '';\n",
              "          dataTable['output_type'] = 'display_data';\n",
              "          await google.colab.output.renderOutput(dataTable, element);\n",
              "          const docLink = document.createElement('div');\n",
              "          docLink.innerHTML = docLinkHtml;\n",
              "          element.appendChild(docLink);\n",
              "        }\n",
              "      </script>\n",
              "    </div>\n",
              "  </div>\n",
              "  "
            ]
          },
          "metadata": {},
          "execution_count": 5
        }
      ]
    },
    {
      "cell_type": "markdown",
      "source": [
        "### Observations: X_train has 84,916 entries and 4 columns\n",
        "### Column 'description' has 29,800 empty cells"
      ],
      "metadata": {
        "id": "DWkAUeUtvVsD"
      }
    },
    {
      "cell_type": "code",
      "source": [
        "# check and display Y_train dataset info and 5 rows\n",
        "Y_train.info()\n",
        "Y_train.head()"
      ],
      "metadata": {
        "colab": {
          "base_uri": "https://localhost:8080/",
          "height": 345
        },
        "id": "b735r1auvY5E",
        "outputId": "14d93696-b39e-4c99-942e-5ad47deb23ba"
      },
      "execution_count": null,
      "outputs": [
        {
          "output_type": "stream",
          "name": "stdout",
          "text": [
            "<class 'pandas.core.frame.DataFrame'>\n",
            "Int64Index: 84916 entries, 0 to 84915\n",
            "Data columns (total 1 columns):\n",
            " #   Column       Non-Null Count  Dtype\n",
            "---  ------       --------------  -----\n",
            " 0   prdtypecode  84916 non-null  int64\n",
            "dtypes: int64(1)\n",
            "memory usage: 1.3 MB\n"
          ]
        },
        {
          "output_type": "execute_result",
          "data": {
            "text/plain": [
              "   prdtypecode\n",
              "0           10\n",
              "1         2280\n",
              "2           50\n",
              "3         1280\n",
              "4         2705"
            ],
            "text/html": [
              "\n",
              "  <div id=\"df-36b56765-a47e-4e9f-8edf-d1e035069fe6\">\n",
              "    <div class=\"colab-df-container\">\n",
              "      <div>\n",
              "<style scoped>\n",
              "    .dataframe tbody tr th:only-of-type {\n",
              "        vertical-align: middle;\n",
              "    }\n",
              "\n",
              "    .dataframe tbody tr th {\n",
              "        vertical-align: top;\n",
              "    }\n",
              "\n",
              "    .dataframe thead th {\n",
              "        text-align: right;\n",
              "    }\n",
              "</style>\n",
              "<table border=\"1\" class=\"dataframe\">\n",
              "  <thead>\n",
              "    <tr style=\"text-align: right;\">\n",
              "      <th></th>\n",
              "      <th>prdtypecode</th>\n",
              "    </tr>\n",
              "  </thead>\n",
              "  <tbody>\n",
              "    <tr>\n",
              "      <th>0</th>\n",
              "      <td>10</td>\n",
              "    </tr>\n",
              "    <tr>\n",
              "      <th>1</th>\n",
              "      <td>2280</td>\n",
              "    </tr>\n",
              "    <tr>\n",
              "      <th>2</th>\n",
              "      <td>50</td>\n",
              "    </tr>\n",
              "    <tr>\n",
              "      <th>3</th>\n",
              "      <td>1280</td>\n",
              "    </tr>\n",
              "    <tr>\n",
              "      <th>4</th>\n",
              "      <td>2705</td>\n",
              "    </tr>\n",
              "  </tbody>\n",
              "</table>\n",
              "</div>\n",
              "      <button class=\"colab-df-convert\" onclick=\"convertToInteractive('df-36b56765-a47e-4e9f-8edf-d1e035069fe6')\"\n",
              "              title=\"Convert this dataframe to an interactive table.\"\n",
              "              style=\"display:none;\">\n",
              "        \n",
              "  <svg xmlns=\"http://www.w3.org/2000/svg\" height=\"24px\"viewBox=\"0 0 24 24\"\n",
              "       width=\"24px\">\n",
              "    <path d=\"M0 0h24v24H0V0z\" fill=\"none\"/>\n",
              "    <path d=\"M18.56 5.44l.94 2.06.94-2.06 2.06-.94-2.06-.94-.94-2.06-.94 2.06-2.06.94zm-11 1L8.5 8.5l.94-2.06 2.06-.94-2.06-.94L8.5 2.5l-.94 2.06-2.06.94zm10 10l.94 2.06.94-2.06 2.06-.94-2.06-.94-.94-2.06-.94 2.06-2.06.94z\"/><path d=\"M17.41 7.96l-1.37-1.37c-.4-.4-.92-.59-1.43-.59-.52 0-1.04.2-1.43.59L10.3 9.45l-7.72 7.72c-.78.78-.78 2.05 0 2.83L4 21.41c.39.39.9.59 1.41.59.51 0 1.02-.2 1.41-.59l7.78-7.78 2.81-2.81c.8-.78.8-2.07 0-2.86zM5.41 20L4 18.59l7.72-7.72 1.47 1.35L5.41 20z\"/>\n",
              "  </svg>\n",
              "      </button>\n",
              "      \n",
              "  <style>\n",
              "    .colab-df-container {\n",
              "      display:flex;\n",
              "      flex-wrap:wrap;\n",
              "      gap: 12px;\n",
              "    }\n",
              "\n",
              "    .colab-df-convert {\n",
              "      background-color: #E8F0FE;\n",
              "      border: none;\n",
              "      border-radius: 50%;\n",
              "      cursor: pointer;\n",
              "      display: none;\n",
              "      fill: #1967D2;\n",
              "      height: 32px;\n",
              "      padding: 0 0 0 0;\n",
              "      width: 32px;\n",
              "    }\n",
              "\n",
              "    .colab-df-convert:hover {\n",
              "      background-color: #E2EBFA;\n",
              "      box-shadow: 0px 1px 2px rgba(60, 64, 67, 0.3), 0px 1px 3px 1px rgba(60, 64, 67, 0.15);\n",
              "      fill: #174EA6;\n",
              "    }\n",
              "\n",
              "    [theme=dark] .colab-df-convert {\n",
              "      background-color: #3B4455;\n",
              "      fill: #D2E3FC;\n",
              "    }\n",
              "\n",
              "    [theme=dark] .colab-df-convert:hover {\n",
              "      background-color: #434B5C;\n",
              "      box-shadow: 0px 1px 3px 1px rgba(0, 0, 0, 0.15);\n",
              "      filter: drop-shadow(0px 1px 2px rgba(0, 0, 0, 0.3));\n",
              "      fill: #FFFFFF;\n",
              "    }\n",
              "  </style>\n",
              "\n",
              "      <script>\n",
              "        const buttonEl =\n",
              "          document.querySelector('#df-36b56765-a47e-4e9f-8edf-d1e035069fe6 button.colab-df-convert');\n",
              "        buttonEl.style.display =\n",
              "          google.colab.kernel.accessAllowed ? 'block' : 'none';\n",
              "\n",
              "        async function convertToInteractive(key) {\n",
              "          const element = document.querySelector('#df-36b56765-a47e-4e9f-8edf-d1e035069fe6');\n",
              "          const dataTable =\n",
              "            await google.colab.kernel.invokeFunction('convertToInteractive',\n",
              "                                                     [key], {});\n",
              "          if (!dataTable) return;\n",
              "\n",
              "          const docLinkHtml = 'Like what you see? Visit the ' +\n",
              "            '<a target=\"_blank\" href=https://colab.research.google.com/notebooks/data_table.ipynb>data table notebook</a>'\n",
              "            + ' to learn more about interactive tables.';\n",
              "          element.innerHTML = '';\n",
              "          dataTable['output_type'] = 'display_data';\n",
              "          await google.colab.output.renderOutput(dataTable, element);\n",
              "          const docLink = document.createElement('div');\n",
              "          docLink.innerHTML = docLinkHtml;\n",
              "          element.appendChild(docLink);\n",
              "        }\n",
              "      </script>\n",
              "    </div>\n",
              "  </div>\n",
              "  "
            ]
          },
          "metadata": {},
          "execution_count": 6
        }
      ]
    },
    {
      "cell_type": "markdown",
      "source": [
        "### Observations: Y_train has 84,916 entries and 2 columns"
      ],
      "metadata": {
        "id": "44b_obEyvfgL"
      }
    },
    {
      "cell_type": "code",
      "source": [
        "# check and display X_test dataset info and 5 rows\n",
        "X_test.info()\n",
        "X_test.head()"
      ],
      "metadata": {
        "colab": {
          "base_uri": "https://localhost:8080/",
          "height": 397
        },
        "id": "J5nJR1vQvglF",
        "outputId": "697ad6b4-1479-48d9-cf9f-c8afd0b80913"
      },
      "execution_count": null,
      "outputs": [
        {
          "output_type": "stream",
          "name": "stdout",
          "text": [
            "<class 'pandas.core.frame.DataFrame'>\n",
            "Int64Index: 13812 entries, 84916 to 98727\n",
            "Data columns (total 4 columns):\n",
            " #   Column       Non-Null Count  Dtype \n",
            "---  ------       --------------  ----- \n",
            " 0   designation  13812 non-null  object\n",
            " 1   description  8926 non-null   object\n",
            " 2   productid    13812 non-null  int64 \n",
            " 3   imageid      13812 non-null  int64 \n",
            "dtypes: int64(2), object(2)\n",
            "memory usage: 539.5+ KB\n"
          ]
        },
        {
          "output_type": "execute_result",
          "data": {
            "text/plain": [
              "                                             designation  \\\n",
              "84916  Folkmanis Puppets - 2732 - Marionnette Et Théâ...   \n",
              "84917  Porte Flamme Gaxix - Flamebringer Gaxix - 136/...   \n",
              "84918                  Pompe de filtration Speck Badu 95   \n",
              "84919                        Robot de piscine électrique   \n",
              "84920  Hsm Destructeur Securio C16 Coupe Crois¿E: 4 X...   \n",
              "\n",
              "                                             description   productid  \\\n",
              "84916                                                NaN   516376098   \n",
              "84917                                                NaN   133389013   \n",
              "84918                                                NaN  4128438366   \n",
              "84919  <p>Ce robot de piscine d&#39;un design innovan...  3929899732   \n",
              "84920                                                NaN   152993898   \n",
              "\n",
              "          imageid  \n",
              "84916  1019294171  \n",
              "84917  1274228667  \n",
              "84918  1295960357  \n",
              "84919  1265224052  \n",
              "84920   940543690  "
            ],
            "text/html": [
              "\n",
              "  <div id=\"df-d49ef660-cbce-4afd-8b2c-bbec75d68f36\">\n",
              "    <div class=\"colab-df-container\">\n",
              "      <div>\n",
              "<style scoped>\n",
              "    .dataframe tbody tr th:only-of-type {\n",
              "        vertical-align: middle;\n",
              "    }\n",
              "\n",
              "    .dataframe tbody tr th {\n",
              "        vertical-align: top;\n",
              "    }\n",
              "\n",
              "    .dataframe thead th {\n",
              "        text-align: right;\n",
              "    }\n",
              "</style>\n",
              "<table border=\"1\" class=\"dataframe\">\n",
              "  <thead>\n",
              "    <tr style=\"text-align: right;\">\n",
              "      <th></th>\n",
              "      <th>designation</th>\n",
              "      <th>description</th>\n",
              "      <th>productid</th>\n",
              "      <th>imageid</th>\n",
              "    </tr>\n",
              "  </thead>\n",
              "  <tbody>\n",
              "    <tr>\n",
              "      <th>84916</th>\n",
              "      <td>Folkmanis Puppets - 2732 - Marionnette Et Théâ...</td>\n",
              "      <td>NaN</td>\n",
              "      <td>516376098</td>\n",
              "      <td>1019294171</td>\n",
              "    </tr>\n",
              "    <tr>\n",
              "      <th>84917</th>\n",
              "      <td>Porte Flamme Gaxix - Flamebringer Gaxix - 136/...</td>\n",
              "      <td>NaN</td>\n",
              "      <td>133389013</td>\n",
              "      <td>1274228667</td>\n",
              "    </tr>\n",
              "    <tr>\n",
              "      <th>84918</th>\n",
              "      <td>Pompe de filtration Speck Badu 95</td>\n",
              "      <td>NaN</td>\n",
              "      <td>4128438366</td>\n",
              "      <td>1295960357</td>\n",
              "    </tr>\n",
              "    <tr>\n",
              "      <th>84919</th>\n",
              "      <td>Robot de piscine électrique</td>\n",
              "      <td>&lt;p&gt;Ce robot de piscine d&amp;#39;un design innovan...</td>\n",
              "      <td>3929899732</td>\n",
              "      <td>1265224052</td>\n",
              "    </tr>\n",
              "    <tr>\n",
              "      <th>84920</th>\n",
              "      <td>Hsm Destructeur Securio C16 Coupe Crois¿E: 4 X...</td>\n",
              "      <td>NaN</td>\n",
              "      <td>152993898</td>\n",
              "      <td>940543690</td>\n",
              "    </tr>\n",
              "  </tbody>\n",
              "</table>\n",
              "</div>\n",
              "      <button class=\"colab-df-convert\" onclick=\"convertToInteractive('df-d49ef660-cbce-4afd-8b2c-bbec75d68f36')\"\n",
              "              title=\"Convert this dataframe to an interactive table.\"\n",
              "              style=\"display:none;\">\n",
              "        \n",
              "  <svg xmlns=\"http://www.w3.org/2000/svg\" height=\"24px\"viewBox=\"0 0 24 24\"\n",
              "       width=\"24px\">\n",
              "    <path d=\"M0 0h24v24H0V0z\" fill=\"none\"/>\n",
              "    <path d=\"M18.56 5.44l.94 2.06.94-2.06 2.06-.94-2.06-.94-.94-2.06-.94 2.06-2.06.94zm-11 1L8.5 8.5l.94-2.06 2.06-.94-2.06-.94L8.5 2.5l-.94 2.06-2.06.94zm10 10l.94 2.06.94-2.06 2.06-.94-2.06-.94-.94-2.06-.94 2.06-2.06.94z\"/><path d=\"M17.41 7.96l-1.37-1.37c-.4-.4-.92-.59-1.43-.59-.52 0-1.04.2-1.43.59L10.3 9.45l-7.72 7.72c-.78.78-.78 2.05 0 2.83L4 21.41c.39.39.9.59 1.41.59.51 0 1.02-.2 1.41-.59l7.78-7.78 2.81-2.81c.8-.78.8-2.07 0-2.86zM5.41 20L4 18.59l7.72-7.72 1.47 1.35L5.41 20z\"/>\n",
              "  </svg>\n",
              "      </button>\n",
              "      \n",
              "  <style>\n",
              "    .colab-df-container {\n",
              "      display:flex;\n",
              "      flex-wrap:wrap;\n",
              "      gap: 12px;\n",
              "    }\n",
              "\n",
              "    .colab-df-convert {\n",
              "      background-color: #E8F0FE;\n",
              "      border: none;\n",
              "      border-radius: 50%;\n",
              "      cursor: pointer;\n",
              "      display: none;\n",
              "      fill: #1967D2;\n",
              "      height: 32px;\n",
              "      padding: 0 0 0 0;\n",
              "      width: 32px;\n",
              "    }\n",
              "\n",
              "    .colab-df-convert:hover {\n",
              "      background-color: #E2EBFA;\n",
              "      box-shadow: 0px 1px 2px rgba(60, 64, 67, 0.3), 0px 1px 3px 1px rgba(60, 64, 67, 0.15);\n",
              "      fill: #174EA6;\n",
              "    }\n",
              "\n",
              "    [theme=dark] .colab-df-convert {\n",
              "      background-color: #3B4455;\n",
              "      fill: #D2E3FC;\n",
              "    }\n",
              "\n",
              "    [theme=dark] .colab-df-convert:hover {\n",
              "      background-color: #434B5C;\n",
              "      box-shadow: 0px 1px 3px 1px rgba(0, 0, 0, 0.15);\n",
              "      filter: drop-shadow(0px 1px 2px rgba(0, 0, 0, 0.3));\n",
              "      fill: #FFFFFF;\n",
              "    }\n",
              "  </style>\n",
              "\n",
              "      <script>\n",
              "        const buttonEl =\n",
              "          document.querySelector('#df-d49ef660-cbce-4afd-8b2c-bbec75d68f36 button.colab-df-convert');\n",
              "        buttonEl.style.display =\n",
              "          google.colab.kernel.accessAllowed ? 'block' : 'none';\n",
              "\n",
              "        async function convertToInteractive(key) {\n",
              "          const element = document.querySelector('#df-d49ef660-cbce-4afd-8b2c-bbec75d68f36');\n",
              "          const dataTable =\n",
              "            await google.colab.kernel.invokeFunction('convertToInteractive',\n",
              "                                                     [key], {});\n",
              "          if (!dataTable) return;\n",
              "\n",
              "          const docLinkHtml = 'Like what you see? Visit the ' +\n",
              "            '<a target=\"_blank\" href=https://colab.research.google.com/notebooks/data_table.ipynb>data table notebook</a>'\n",
              "            + ' to learn more about interactive tables.';\n",
              "          element.innerHTML = '';\n",
              "          dataTable['output_type'] = 'display_data';\n",
              "          await google.colab.output.renderOutput(dataTable, element);\n",
              "          const docLink = document.createElement('div');\n",
              "          docLink.innerHTML = docLinkHtml;\n",
              "          element.appendChild(docLink);\n",
              "        }\n",
              "      </script>\n",
              "    </div>\n",
              "  </div>\n",
              "  "
            ]
          },
          "metadata": {},
          "execution_count": 7
        }
      ]
    },
    {
      "cell_type": "markdown",
      "source": [
        "### Observations: X_test has 13,812 entries and 4 columns.\n",
        "### Column 'description' has 4,886 empty cells"
      ],
      "metadata": {
        "id": "DvHUqNGdvfZi"
      }
    },
    {
      "cell_type": "code",
      "source": [
        "# display unique product type (prdtypecode)in Y_train dataset\n",
        "Y_train_prd = pd.DataFrame(Y_train['prdtypecode'].unique())\n",
        "Y_train_prd"
      ],
      "metadata": {
        "colab": {
          "base_uri": "https://localhost:8080/",
          "height": 896
        },
        "id": "CBeyIC-YvnVj",
        "outputId": "c51e0835-55d0-4b21-c7cf-5a16de943c3f"
      },
      "execution_count": null,
      "outputs": [
        {
          "output_type": "execute_result",
          "data": {
            "text/plain": [
              "       0\n",
              "0     10\n",
              "1   2280\n",
              "2     50\n",
              "3   1280\n",
              "4   2705\n",
              "5   2522\n",
              "6   2582\n",
              "7   1560\n",
              "8   1281\n",
              "9   1920\n",
              "10  2403\n",
              "11  1140\n",
              "12  2583\n",
              "13  1180\n",
              "14  1300\n",
              "15  2462\n",
              "16  1160\n",
              "17  2060\n",
              "18    40\n",
              "19    60\n",
              "20  1320\n",
              "21  1302\n",
              "22  2220\n",
              "23  2905\n",
              "24  2585\n",
              "25  1940\n",
              "26  1301"
            ],
            "text/html": [
              "\n",
              "  <div id=\"df-7fa996d9-8058-4432-956e-f07cb2c14320\">\n",
              "    <div class=\"colab-df-container\">\n",
              "      <div>\n",
              "<style scoped>\n",
              "    .dataframe tbody tr th:only-of-type {\n",
              "        vertical-align: middle;\n",
              "    }\n",
              "\n",
              "    .dataframe tbody tr th {\n",
              "        vertical-align: top;\n",
              "    }\n",
              "\n",
              "    .dataframe thead th {\n",
              "        text-align: right;\n",
              "    }\n",
              "</style>\n",
              "<table border=\"1\" class=\"dataframe\">\n",
              "  <thead>\n",
              "    <tr style=\"text-align: right;\">\n",
              "      <th></th>\n",
              "      <th>0</th>\n",
              "    </tr>\n",
              "  </thead>\n",
              "  <tbody>\n",
              "    <tr>\n",
              "      <th>0</th>\n",
              "      <td>10</td>\n",
              "    </tr>\n",
              "    <tr>\n",
              "      <th>1</th>\n",
              "      <td>2280</td>\n",
              "    </tr>\n",
              "    <tr>\n",
              "      <th>2</th>\n",
              "      <td>50</td>\n",
              "    </tr>\n",
              "    <tr>\n",
              "      <th>3</th>\n",
              "      <td>1280</td>\n",
              "    </tr>\n",
              "    <tr>\n",
              "      <th>4</th>\n",
              "      <td>2705</td>\n",
              "    </tr>\n",
              "    <tr>\n",
              "      <th>5</th>\n",
              "      <td>2522</td>\n",
              "    </tr>\n",
              "    <tr>\n",
              "      <th>6</th>\n",
              "      <td>2582</td>\n",
              "    </tr>\n",
              "    <tr>\n",
              "      <th>7</th>\n",
              "      <td>1560</td>\n",
              "    </tr>\n",
              "    <tr>\n",
              "      <th>8</th>\n",
              "      <td>1281</td>\n",
              "    </tr>\n",
              "    <tr>\n",
              "      <th>9</th>\n",
              "      <td>1920</td>\n",
              "    </tr>\n",
              "    <tr>\n",
              "      <th>10</th>\n",
              "      <td>2403</td>\n",
              "    </tr>\n",
              "    <tr>\n",
              "      <th>11</th>\n",
              "      <td>1140</td>\n",
              "    </tr>\n",
              "    <tr>\n",
              "      <th>12</th>\n",
              "      <td>2583</td>\n",
              "    </tr>\n",
              "    <tr>\n",
              "      <th>13</th>\n",
              "      <td>1180</td>\n",
              "    </tr>\n",
              "    <tr>\n",
              "      <th>14</th>\n",
              "      <td>1300</td>\n",
              "    </tr>\n",
              "    <tr>\n",
              "      <th>15</th>\n",
              "      <td>2462</td>\n",
              "    </tr>\n",
              "    <tr>\n",
              "      <th>16</th>\n",
              "      <td>1160</td>\n",
              "    </tr>\n",
              "    <tr>\n",
              "      <th>17</th>\n",
              "      <td>2060</td>\n",
              "    </tr>\n",
              "    <tr>\n",
              "      <th>18</th>\n",
              "      <td>40</td>\n",
              "    </tr>\n",
              "    <tr>\n",
              "      <th>19</th>\n",
              "      <td>60</td>\n",
              "    </tr>\n",
              "    <tr>\n",
              "      <th>20</th>\n",
              "      <td>1320</td>\n",
              "    </tr>\n",
              "    <tr>\n",
              "      <th>21</th>\n",
              "      <td>1302</td>\n",
              "    </tr>\n",
              "    <tr>\n",
              "      <th>22</th>\n",
              "      <td>2220</td>\n",
              "    </tr>\n",
              "    <tr>\n",
              "      <th>23</th>\n",
              "      <td>2905</td>\n",
              "    </tr>\n",
              "    <tr>\n",
              "      <th>24</th>\n",
              "      <td>2585</td>\n",
              "    </tr>\n",
              "    <tr>\n",
              "      <th>25</th>\n",
              "      <td>1940</td>\n",
              "    </tr>\n",
              "    <tr>\n",
              "      <th>26</th>\n",
              "      <td>1301</td>\n",
              "    </tr>\n",
              "  </tbody>\n",
              "</table>\n",
              "</div>\n",
              "      <button class=\"colab-df-convert\" onclick=\"convertToInteractive('df-7fa996d9-8058-4432-956e-f07cb2c14320')\"\n",
              "              title=\"Convert this dataframe to an interactive table.\"\n",
              "              style=\"display:none;\">\n",
              "        \n",
              "  <svg xmlns=\"http://www.w3.org/2000/svg\" height=\"24px\"viewBox=\"0 0 24 24\"\n",
              "       width=\"24px\">\n",
              "    <path d=\"M0 0h24v24H0V0z\" fill=\"none\"/>\n",
              "    <path d=\"M18.56 5.44l.94 2.06.94-2.06 2.06-.94-2.06-.94-.94-2.06-.94 2.06-2.06.94zm-11 1L8.5 8.5l.94-2.06 2.06-.94-2.06-.94L8.5 2.5l-.94 2.06-2.06.94zm10 10l.94 2.06.94-2.06 2.06-.94-2.06-.94-.94-2.06-.94 2.06-2.06.94z\"/><path d=\"M17.41 7.96l-1.37-1.37c-.4-.4-.92-.59-1.43-.59-.52 0-1.04.2-1.43.59L10.3 9.45l-7.72 7.72c-.78.78-.78 2.05 0 2.83L4 21.41c.39.39.9.59 1.41.59.51 0 1.02-.2 1.41-.59l7.78-7.78 2.81-2.81c.8-.78.8-2.07 0-2.86zM5.41 20L4 18.59l7.72-7.72 1.47 1.35L5.41 20z\"/>\n",
              "  </svg>\n",
              "      </button>\n",
              "      \n",
              "  <style>\n",
              "    .colab-df-container {\n",
              "      display:flex;\n",
              "      flex-wrap:wrap;\n",
              "      gap: 12px;\n",
              "    }\n",
              "\n",
              "    .colab-df-convert {\n",
              "      background-color: #E8F0FE;\n",
              "      border: none;\n",
              "      border-radius: 50%;\n",
              "      cursor: pointer;\n",
              "      display: none;\n",
              "      fill: #1967D2;\n",
              "      height: 32px;\n",
              "      padding: 0 0 0 0;\n",
              "      width: 32px;\n",
              "    }\n",
              "\n",
              "    .colab-df-convert:hover {\n",
              "      background-color: #E2EBFA;\n",
              "      box-shadow: 0px 1px 2px rgba(60, 64, 67, 0.3), 0px 1px 3px 1px rgba(60, 64, 67, 0.15);\n",
              "      fill: #174EA6;\n",
              "    }\n",
              "\n",
              "    [theme=dark] .colab-df-convert {\n",
              "      background-color: #3B4455;\n",
              "      fill: #D2E3FC;\n",
              "    }\n",
              "\n",
              "    [theme=dark] .colab-df-convert:hover {\n",
              "      background-color: #434B5C;\n",
              "      box-shadow: 0px 1px 3px 1px rgba(0, 0, 0, 0.15);\n",
              "      filter: drop-shadow(0px 1px 2px rgba(0, 0, 0, 0.3));\n",
              "      fill: #FFFFFF;\n",
              "    }\n",
              "  </style>\n",
              "\n",
              "      <script>\n",
              "        const buttonEl =\n",
              "          document.querySelector('#df-7fa996d9-8058-4432-956e-f07cb2c14320 button.colab-df-convert');\n",
              "        buttonEl.style.display =\n",
              "          google.colab.kernel.accessAllowed ? 'block' : 'none';\n",
              "\n",
              "        async function convertToInteractive(key) {\n",
              "          const element = document.querySelector('#df-7fa996d9-8058-4432-956e-f07cb2c14320');\n",
              "          const dataTable =\n",
              "            await google.colab.kernel.invokeFunction('convertToInteractive',\n",
              "                                                     [key], {});\n",
              "          if (!dataTable) return;\n",
              "\n",
              "          const docLinkHtml = 'Like what you see? Visit the ' +\n",
              "            '<a target=\"_blank\" href=https://colab.research.google.com/notebooks/data_table.ipynb>data table notebook</a>'\n",
              "            + ' to learn more about interactive tables.';\n",
              "          element.innerHTML = '';\n",
              "          dataTable['output_type'] = 'display_data';\n",
              "          await google.colab.output.renderOutput(dataTable, element);\n",
              "          const docLink = document.createElement('div');\n",
              "          docLink.innerHTML = docLinkHtml;\n",
              "          element.appendChild(docLink);\n",
              "        }\n",
              "      </script>\n",
              "    </div>\n",
              "  </div>\n",
              "  "
            ]
          },
          "metadata": {},
          "execution_count": 8
        }
      ]
    },
    {
      "cell_type": "markdown",
      "source": [
        "###Observations: Y_train data (target variable) has 27 unique product types (prdtypecode)"
      ],
      "metadata": {
        "id": "85F_jg5zwFIt"
      }
    },
    {
      "cell_type": "code",
      "source": [
        "# join/merge X_train and Y_train datasets to identify the product type:\n",
        "X_train_prd = pd.concat([X_train, Y_train], axis=1, join='inner')\n",
        "X_train_prd.sample()"
      ],
      "metadata": {
        "colab": {
          "base_uri": "https://localhost:8080/",
          "height": 81
        },
        "id": "FI_X6A2BwIFw",
        "outputId": "f0fa04dd-07b8-4b8a-c397-a70c78761f54"
      },
      "execution_count": null,
      "outputs": [
        {
          "output_type": "execute_result",
          "data": {
            "text/plain": [
              "                        designation description  productid    imageid  \\\n",
              "42163  Pixel Creation Numérique 140         NaN  234092854  959923818   \n",
              "\n",
              "       prdtypecode  \n",
              "42163         2280  "
            ],
            "text/html": [
              "\n",
              "  <div id=\"df-054b98a2-055b-4d5e-a231-6dcbfdf67c53\">\n",
              "    <div class=\"colab-df-container\">\n",
              "      <div>\n",
              "<style scoped>\n",
              "    .dataframe tbody tr th:only-of-type {\n",
              "        vertical-align: middle;\n",
              "    }\n",
              "\n",
              "    .dataframe tbody tr th {\n",
              "        vertical-align: top;\n",
              "    }\n",
              "\n",
              "    .dataframe thead th {\n",
              "        text-align: right;\n",
              "    }\n",
              "</style>\n",
              "<table border=\"1\" class=\"dataframe\">\n",
              "  <thead>\n",
              "    <tr style=\"text-align: right;\">\n",
              "      <th></th>\n",
              "      <th>designation</th>\n",
              "      <th>description</th>\n",
              "      <th>productid</th>\n",
              "      <th>imageid</th>\n",
              "      <th>prdtypecode</th>\n",
              "    </tr>\n",
              "  </thead>\n",
              "  <tbody>\n",
              "    <tr>\n",
              "      <th>42163</th>\n",
              "      <td>Pixel Creation Numérique 140</td>\n",
              "      <td>NaN</td>\n",
              "      <td>234092854</td>\n",
              "      <td>959923818</td>\n",
              "      <td>2280</td>\n",
              "    </tr>\n",
              "  </tbody>\n",
              "</table>\n",
              "</div>\n",
              "      <button class=\"colab-df-convert\" onclick=\"convertToInteractive('df-054b98a2-055b-4d5e-a231-6dcbfdf67c53')\"\n",
              "              title=\"Convert this dataframe to an interactive table.\"\n",
              "              style=\"display:none;\">\n",
              "        \n",
              "  <svg xmlns=\"http://www.w3.org/2000/svg\" height=\"24px\"viewBox=\"0 0 24 24\"\n",
              "       width=\"24px\">\n",
              "    <path d=\"M0 0h24v24H0V0z\" fill=\"none\"/>\n",
              "    <path d=\"M18.56 5.44l.94 2.06.94-2.06 2.06-.94-2.06-.94-.94-2.06-.94 2.06-2.06.94zm-11 1L8.5 8.5l.94-2.06 2.06-.94-2.06-.94L8.5 2.5l-.94 2.06-2.06.94zm10 10l.94 2.06.94-2.06 2.06-.94-2.06-.94-.94-2.06-.94 2.06-2.06.94z\"/><path d=\"M17.41 7.96l-1.37-1.37c-.4-.4-.92-.59-1.43-.59-.52 0-1.04.2-1.43.59L10.3 9.45l-7.72 7.72c-.78.78-.78 2.05 0 2.83L4 21.41c.39.39.9.59 1.41.59.51 0 1.02-.2 1.41-.59l7.78-7.78 2.81-2.81c.8-.78.8-2.07 0-2.86zM5.41 20L4 18.59l7.72-7.72 1.47 1.35L5.41 20z\"/>\n",
              "  </svg>\n",
              "      </button>\n",
              "      \n",
              "  <style>\n",
              "    .colab-df-container {\n",
              "      display:flex;\n",
              "      flex-wrap:wrap;\n",
              "      gap: 12px;\n",
              "    }\n",
              "\n",
              "    .colab-df-convert {\n",
              "      background-color: #E8F0FE;\n",
              "      border: none;\n",
              "      border-radius: 50%;\n",
              "      cursor: pointer;\n",
              "      display: none;\n",
              "      fill: #1967D2;\n",
              "      height: 32px;\n",
              "      padding: 0 0 0 0;\n",
              "      width: 32px;\n",
              "    }\n",
              "\n",
              "    .colab-df-convert:hover {\n",
              "      background-color: #E2EBFA;\n",
              "      box-shadow: 0px 1px 2px rgba(60, 64, 67, 0.3), 0px 1px 3px 1px rgba(60, 64, 67, 0.15);\n",
              "      fill: #174EA6;\n",
              "    }\n",
              "\n",
              "    [theme=dark] .colab-df-convert {\n",
              "      background-color: #3B4455;\n",
              "      fill: #D2E3FC;\n",
              "    }\n",
              "\n",
              "    [theme=dark] .colab-df-convert:hover {\n",
              "      background-color: #434B5C;\n",
              "      box-shadow: 0px 1px 3px 1px rgba(0, 0, 0, 0.15);\n",
              "      filter: drop-shadow(0px 1px 2px rgba(0, 0, 0, 0.3));\n",
              "      fill: #FFFFFF;\n",
              "    }\n",
              "  </style>\n",
              "\n",
              "      <script>\n",
              "        const buttonEl =\n",
              "          document.querySelector('#df-054b98a2-055b-4d5e-a231-6dcbfdf67c53 button.colab-df-convert');\n",
              "        buttonEl.style.display =\n",
              "          google.colab.kernel.accessAllowed ? 'block' : 'none';\n",
              "\n",
              "        async function convertToInteractive(key) {\n",
              "          const element = document.querySelector('#df-054b98a2-055b-4d5e-a231-6dcbfdf67c53');\n",
              "          const dataTable =\n",
              "            await google.colab.kernel.invokeFunction('convertToInteractive',\n",
              "                                                     [key], {});\n",
              "          if (!dataTable) return;\n",
              "\n",
              "          const docLinkHtml = 'Like what you see? Visit the ' +\n",
              "            '<a target=\"_blank\" href=https://colab.research.google.com/notebooks/data_table.ipynb>data table notebook</a>'\n",
              "            + ' to learn more about interactive tables.';\n",
              "          element.innerHTML = '';\n",
              "          dataTable['output_type'] = 'display_data';\n",
              "          await google.colab.output.renderOutput(dataTable, element);\n",
              "          const docLink = document.createElement('div');\n",
              "          docLink.innerHTML = docLinkHtml;\n",
              "          element.appendChild(docLink);\n",
              "        }\n",
              "      </script>\n",
              "    </div>\n",
              "  </div>\n",
              "  "
            ]
          },
          "metadata": {},
          "execution_count": 9
        }
      ]
    },
    {
      "cell_type": "code",
      "source": [
        "# display X_train_prd columns type:\n",
        "X_train_prd.info()"
      ],
      "metadata": {
        "colab": {
          "base_uri": "https://localhost:8080/"
        },
        "id": "-KlGvAtsw0iF",
        "outputId": "0675e386-64d6-4ae7-a882-914326ac08e1"
      },
      "execution_count": null,
      "outputs": [
        {
          "output_type": "stream",
          "name": "stdout",
          "text": [
            "<class 'pandas.core.frame.DataFrame'>\n",
            "Int64Index: 84916 entries, 0 to 84915\n",
            "Data columns (total 5 columns):\n",
            " #   Column       Non-Null Count  Dtype \n",
            "---  ------       --------------  ----- \n",
            " 0   designation  84916 non-null  object\n",
            " 1   description  55116 non-null  object\n",
            " 2   productid    84916 non-null  int64 \n",
            " 3   imageid      84916 non-null  int64 \n",
            " 4   prdtypecode  84916 non-null  int64 \n",
            "dtypes: int64(3), object(2)\n",
            "memory usage: 5.9+ MB\n"
          ]
        }
      ]
    },
    {
      "cell_type": "code",
      "source": [
        "# convert the 'designation' and 'description' columns from object type to String:\n",
        "X_train_prd[\"designation\"] = X_train_prd[\"designation\"].astype(str)\n",
        "X_train_prd[\"description\"] = X_train_prd[\"description\"].astype(str)"
      ],
      "metadata": {
        "id": "7EDiPMGFwxJ0"
      },
      "execution_count": null,
      "outputs": []
    },
    {
      "cell_type": "code",
      "source": [
        "# count the number of products per product type and display in descending order:\n",
        "X_train_prd.groupby('prdtypecode').prdtypecode.count().sort_values(ascending = False)"
      ],
      "metadata": {
        "colab": {
          "base_uri": "https://localhost:8080/"
        },
        "id": "YyrCP6xJw-_3",
        "outputId": "b41bd050-925f-4aaa-8a64-9bbc98a4396a"
      },
      "execution_count": null,
      "outputs": [
        {
          "output_type": "execute_result",
          "data": {
            "text/plain": [
              "prdtypecode\n",
              "2583    10209\n",
              "1560     5073\n",
              "1300     5045\n",
              "2060     4993\n",
              "2522     4989\n",
              "1280     4870\n",
              "2403     4774\n",
              "2280     4760\n",
              "1920     4303\n",
              "1160     3953\n",
              "1320     3241\n",
              "10       3116\n",
              "2705     2761\n",
              "1140     2671\n",
              "2582     2589\n",
              "40       2508\n",
              "2585     2496\n",
              "1302     2491\n",
              "1281     2070\n",
              "50       1681\n",
              "2462     1421\n",
              "2905      872\n",
              "60        832\n",
              "2220      824\n",
              "1301      807\n",
              "1940      803\n",
              "1180      764\n",
              "Name: prdtypecode, dtype: int64"
            ]
          },
          "metadata": {},
          "execution_count": 12
        }
      ]
    },
    {
      "cell_type": "markdown",
      "source": [
        "### We have an highly unbalanced data.\n",
        "### Lagest product type class has (10209/84916) ~ 12% of the products.\n",
        "### Smallest prodcut type class has (764/84916) ~ 0.9% of the products."
      ],
      "metadata": {
        "id": "QcyO9TsGyUz4"
      }
    },
    {
      "cell_type": "code",
      "source": [
        "# display the countplot per product type:\n",
        "plt.figure(figsize = (20, 10))\n",
        "sns.countplot(x =X_train_prd['prdtypecode'], order = X_train_prd['prdtypecode'].value_counts().index, color = 'blue')\n",
        "plt.show();"
      ],
      "metadata": {
        "colab": {
          "base_uri": "https://localhost:8080/",
          "height": 606
        },
        "id": "-ODK5O-txXbn",
        "outputId": "8fdcf3aa-4605-4e6f-cc49-bdd19c4f3a71"
      },
      "execution_count": null,
      "outputs": [
        {
          "output_type": "display_data",
          "data": {
            "text/plain": [
              "<Figure size 1440x720 with 1 Axes>"
            ],
            "image/png": "[encoded data removed]"
          },
          "metadata": {
            "needs_background": "light"
          }
        }
      ]
    },
    {
      "cell_type": "markdown",
      "source": [
        "## TEXT MINING:\n",
        "### WORD COUNT (RAW DATA):"
      ],
      "metadata": {
        "id": "UqkJIvDd22eg"
      }
    },
    {
      "cell_type": "code",
      "source": [
        "# new varia to count number of words+char in X_train, X_test designation and description columns:\n",
        "X_train_word_count = X_train.iloc[:,:2]\n",
        "X_test_word_count = X_test.iloc[:,:2]\n",
        "X_train_word_count[\"designation\"] = X_train_word_count[\"designation\"].astype(str)\n",
        "X_train_word_count[\"description\"] = X_train_word_count[\"description\"].astype(str)\n",
        "X_test_word_count[\"designation\"] = X_test_word_count[\"designation\"].astype(str)\n",
        "X_test_word_count[\"description\"] = X_test_word_count[\"description\"].astype(str)\n",
        "\n",
        "## X_train\n",
        "# function to count number of words+char\n",
        "def count_words(sentence):\n",
        "  word_count = len(sentence.split())\n",
        "  return word_count\n",
        "# Average number of words in \"designation\" column:\n",
        "X_train_word_count['desig_word_count'] = X_train_word_count['designation'].apply(lambda sentence : count_words(sentence))\n",
        "median_desi = np.round(X_train_word_count['desig_word_count'].median(),2)\n",
        "max_desi = np.round(X_train_word_count['desig_word_count'].max(),2)\n",
        "print('X_train - Median length of words+char in \"designation\" per product before text cleaning:', median_desi)\n",
        "print('X_train - Maximum of words+char in \"designation\" per product before text cleaning:', max_desi)\n",
        "\n",
        "# # Average number of words+char in \"description\" column:\n",
        "X_train_word_count['descr_word_count'] = X_train_word_count['description'].apply(lambda sentence : count_words(sentence))\n",
        "median_desc = np.round(X_train_word_count['descr_word_count'].median(),2)\n",
        "max_desc = np.round(X_train_word_count['descr_word_count'].max(),2)\n",
        "print('X_train - Median length of words+char in \"description\" per product before text cleaning:', median_desc)\n",
        "print('X_train - Maximum of words+char in \"designation\" per product before text cleaning:', max_desc)"
      ],
      "metadata": {
        "colab": {
          "base_uri": "https://localhost:8080/"
        },
        "id": "I3JFg3K427ME",
        "outputId": "0f8c6d41-2e4c-4320-9e03-7f154fdb5277"
      },
      "execution_count": null,
      "outputs": [
        {
          "output_type": "stream",
          "name": "stdout",
          "text": [
            "X_train - Median length of words+char in \"designation\" per product before text cleaning: 11.0\n",
            "X_train - Maximum of words+char in \"designation\" per product before text cleaning: 56\n",
            "X_train - Median length of words+char in \"description\" per product before text cleaning: 35.0\n",
            "X_train - Maximum of words+char in \"designation\" per product before text cleaning: 2068\n"
          ]
        }
      ]
    },
    {
      "cell_type": "code",
      "source": [
        "X_train_word_count.head()"
      ],
      "metadata": {
        "colab": {
          "base_uri": "https://localhost:8080/",
          "height": 206
        },
        "id": "2FckhXBDPD09",
        "outputId": "ce85294a-97a1-404c-ac63-9882f492c49c"
      },
      "execution_count": null,
      "outputs": [
        {
          "output_type": "execute_result",
          "data": {
            "text/plain": [
              "                                         designation  \\\n",
              "0  Olivia: Personalisiertes Notizbuch / 150 Seite...   \n",
              "1  Journal Des Arts (Le) N° 133 Du 28/09/2001 - L...   \n",
              "2  Grand Stylet Ergonomique Bleu Gamepad Nintendo...   \n",
              "3  Peluche Donald - Europe - Disneyland 2000 (Mar...   \n",
              "4                               La Guerre Des Tuques   \n",
              "\n",
              "                                         description  desig_word_count  \\\n",
              "0                                                nan                14   \n",
              "1                                                nan                39   \n",
              "2  PILOT STYLE Touch Pen de marque Speedlink est ...                12   \n",
              "3                                                nan                10   \n",
              "4  Luc a des id&eacute;es de grandeur. Il veut or...                 4   \n",
              "\n",
              "   descr_word_count  \n",
              "0                 1  \n",
              "1                 1  \n",
              "2               109  \n",
              "3                 1  \n",
              "4                34  "
            ],
            "text/html": [
              "\n",
              "  <div id=\"df-6c84bcc3-6a4e-48f9-98b0-279c27fe9e05\">\n",
              "    <div class=\"colab-df-container\">\n",
              "      <div>\n",
              "<style scoped>\n",
              "    .dataframe tbody tr th:only-of-type {\n",
              "        vertical-align: middle;\n",
              "    }\n",
              "\n",
              "    .dataframe tbody tr th {\n",
              "        vertical-align: top;\n",
              "    }\n",
              "\n",
              "    .dataframe thead th {\n",
              "        text-align: right;\n",
              "    }\n",
              "</style>\n",
              "<table border=\"1\" class=\"dataframe\">\n",
              "  <thead>\n",
              "    <tr style=\"text-align: right;\">\n",
              "      <th></th>\n",
              "      <th>designation</th>\n",
              "      <th>description</th>\n",
              "      <th>desig_word_count</th>\n",
              "      <th>descr_word_count</th>\n",
              "    </tr>\n",
              "  </thead>\n",
              "  <tbody>\n",
              "    <tr>\n",
              "      <th>0</th>\n",
              "      <td>Olivia: Personalisiertes Notizbuch / 150 Seite...</td>\n",
              "      <td>nan</td>\n",
              "      <td>14</td>\n",
              "      <td>1</td>\n",
              "    </tr>\n",
              "    <tr>\n",
              "      <th>1</th>\n",
              "      <td>Journal Des Arts (Le) N° 133 Du 28/09/2001 - L...</td>\n",
              "      <td>nan</td>\n",
              "      <td>39</td>\n",
              "      <td>1</td>\n",
              "    </tr>\n",
              "    <tr>\n",
              "      <th>2</th>\n",
              "      <td>Grand Stylet Ergonomique Bleu Gamepad Nintendo...</td>\n",
              "      <td>PILOT STYLE Touch Pen de marque Speedlink est ...</td>\n",
              "      <td>12</td>\n",
              "      <td>109</td>\n",
              "    </tr>\n",
              "    <tr>\n",
              "      <th>3</th>\n",
              "      <td>Peluche Donald - Europe - Disneyland 2000 (Mar...</td>\n",
              "      <td>nan</td>\n",
              "      <td>10</td>\n",
              "      <td>1</td>\n",
              "    </tr>\n",
              "    <tr>\n",
              "      <th>4</th>\n",
              "      <td>La Guerre Des Tuques</td>\n",
              "      <td>Luc a des id&amp;eacute;es de grandeur. Il veut or...</td>\n",
              "      <td>4</td>\n",
              "      <td>34</td>\n",
              "    </tr>\n",
              "  </tbody>\n",
              "</table>\n",
              "</div>\n",
              "      <button class=\"colab-df-convert\" onclick=\"convertToInteractive('df-6c84bcc3-6a4e-48f9-98b0-279c27fe9e05')\"\n",
              "              title=\"Convert this dataframe to an interactive table.\"\n",
              "              style=\"display:none;\">\n",
              "        \n",
              "  <svg xmlns=\"http://www.w3.org/2000/svg\" height=\"24px\"viewBox=\"0 0 24 24\"\n",
              "       width=\"24px\">\n",
              "    <path d=\"M0 0h24v24H0V0z\" fill=\"none\"/>\n",
              "    <path d=\"M18.56 5.44l.94 2.06.94-2.06 2.06-.94-2.06-.94-.94-2.06-.94 2.06-2.06.94zm-11 1L8.5 8.5l.94-2.06 2.06-.94-2.06-.94L8.5 2.5l-.94 2.06-2.06.94zm10 10l.94 2.06.94-2.06 2.06-.94-2.06-.94-.94-2.06-.94 2.06-2.06.94z\"/><path d=\"M17.41 7.96l-1.37-1.37c-.4-.4-.92-.59-1.43-.59-.52 0-1.04.2-1.43.59L10.3 9.45l-7.72 7.72c-.78.78-.78 2.05 0 2.83L4 21.41c.39.39.9.59 1.41.59.51 0 1.02-.2 1.41-.59l7.78-7.78 2.81-2.81c.8-.78.8-2.07 0-2.86zM5.41 20L4 18.59l7.72-7.72 1.47 1.35L5.41 20z\"/>\n",
              "  </svg>\n",
              "      </button>\n",
              "      \n",
              "  <style>\n",
              "    .colab-df-container {\n",
              "      display:flex;\n",
              "      flex-wrap:wrap;\n",
              "      gap: 12px;\n",
              "    }\n",
              "\n",
              "    .colab-df-convert {\n",
              "      background-color: #E8F0FE;\n",
              "      border: none;\n",
              "      border-radius: 50%;\n",
              "      cursor: pointer;\n",
              "      display: none;\n",
              "      fill: #1967D2;\n",
              "      height: 32px;\n",
              "      padding: 0 0 0 0;\n",
              "      width: 32px;\n",
              "    }\n",
              "\n",
              "    .colab-df-convert:hover {\n",
              "      background-color: #E2EBFA;\n",
              "      box-shadow: 0px 1px 2px rgba(60, 64, 67, 0.3), 0px 1px 3px 1px rgba(60, 64, 67, 0.15);\n",
              "      fill: #174EA6;\n",
              "    }\n",
              "\n",
              "    [theme=dark] .colab-df-convert {\n",
              "      background-color: #3B4455;\n",
              "      fill: #D2E3FC;\n",
              "    }\n",
              "\n",
              "    [theme=dark] .colab-df-convert:hover {\n",
              "      background-color: #434B5C;\n",
              "      box-shadow: 0px 1px 3px 1px rgba(0, 0, 0, 0.15);\n",
              "      filter: drop-shadow(0px 1px 2px rgba(0, 0, 0, 0.3));\n",
              "      fill: #FFFFFF;\n",
              "    }\n",
              "  </style>\n",
              "\n",
              "      <script>\n",
              "        const buttonEl =\n",
              "          document.querySelector('#df-6c84bcc3-6a4e-48f9-98b0-279c27fe9e05 button.colab-df-convert');\n",
              "        buttonEl.style.display =\n",
              "          google.colab.kernel.accessAllowed ? 'block' : 'none';\n",
              "\n",
              "        async function convertToInteractive(key) {\n",
              "          const element = document.querySelector('#df-6c84bcc3-6a4e-48f9-98b0-279c27fe9e05');\n",
              "          const dataTable =\n",
              "            await google.colab.kernel.invokeFunction('convertToInteractive',\n",
              "                                                     [key], {});\n",
              "          if (!dataTable) return;\n",
              "\n",
              "          const docLinkHtml = 'Like what you see? Visit the ' +\n",
              "            '<a target=\"_blank\" href=https://colab.research.google.com/notebooks/data_table.ipynb>data table notebook</a>'\n",
              "            + ' to learn more about interactive tables.';\n",
              "          element.innerHTML = '';\n",
              "          dataTable['output_type'] = 'display_data';\n",
              "          await google.colab.output.renderOutput(dataTable, element);\n",
              "          const docLink = document.createElement('div');\n",
              "          docLink.innerHTML = docLinkHtml;\n",
              "          element.appendChild(docLink);\n",
              "        }\n",
              "      </script>\n",
              "    </div>\n",
              "  </div>\n",
              "  "
            ]
          },
          "metadata": {},
          "execution_count": 15
        }
      ]
    },
    {
      "cell_type": "code",
      "source": [
        "## X_test\n",
        "# Average number of words in \"designation\" column:\n",
        "X_test_word_count['desig_word_count'] = X_test_word_count['designation'].apply(lambda sentence : count_words(sentence))\n",
        "median_test_desi = np.round(X_test_word_count['desig_word_count'].median(),2)\n",
        "max_test_desi = np.round(X_test_word_count['desig_word_count'].max(),2)\n",
        "print('X_test - Median length of words+char in \"designation\" per product before text cleaning:', median_test_desi)\n",
        "print('X_test - Maximum of words+char in \"designation\" per product before text cleaning:', max_test_desi)\n",
        "# # Average number of words+char in \"description\" column:\n",
        "X_test_word_count['descr_word_count'] = X_test_word_count['description'].apply(lambda sentence : count_words(sentence))\n",
        "median_test_desc = np.round(X_test_word_count['descr_word_count'].median(),2)\n",
        "max_test_desc = np.round(X_test_word_count['descr_word_count'].max(),2)\n",
        "print('X_test - Median length of words+char in \"description\" per product before text cleaning:', median_test_desc)\n",
        "print('X_test - Maximum of words+char in \"description\" per product before text cleaning:', max_test_desc)"
      ],
      "metadata": {
        "colab": {
          "base_uri": "https://localhost:8080/"
        },
        "id": "ne4yWZRnF4M9",
        "outputId": "2e0cebfc-d51a-49f6-97c3-3759b81c2caf"
      },
      "execution_count": null,
      "outputs": [
        {
          "output_type": "stream",
          "name": "stdout",
          "text": [
            "X_test - Median length of words+char in \"designation\" per product before text cleaning: 11.0\n",
            "X_test - Maximum of words+char in \"designation\" per product before text cleaning: 52\n",
            "X_test - Median length of words+char in \"description\" per product before text cleaning: 34.0\n",
            "X_test - Maximum of words+char in \"description\" per product before text cleaning: 3371\n"
          ]
        }
      ]
    },
    {
      "cell_type": "markdown",
      "source": [
        "# ***X_train:***\n",
        "### Median length of words+char in X_train dataset (desination column) is ~11, with a maxmimum of 56 words.\n",
        "### Median length number of words+char in X_train dataset (description column) is ~35, with a maximum of 2068 words.\n",
        "\n",
        "# ***X_test:***\n",
        "### Median length of words+char in X_test dataset (desination column) is ~11, with a maxmimum of 52 words.\n",
        "### Median length number of words+char in X_test dataset (description column) is ~34, with a maximum of 3371 words."
      ],
      "metadata": {
        "id": "ybx7t7wUGakb"
      }
    },
    {
      "cell_type": "markdown",
      "source": [
        "## TOKENIZATION"
      ],
      "metadata": {
        "id": "Y_LvIt3jI4Ka"
      }
    },
    {
      "cell_type": "code",
      "source": [
        "# Concatenate X_train and X_test datasets:\n",
        "frames = [X_train, X_test]\n",
        "X_data_concat = pd.concat(frames)"
      ],
      "metadata": {
        "id": "3mTgVEpjG7lt"
      },
      "execution_count": null,
      "outputs": []
    },
    {
      "cell_type": "code",
      "source": [
        "# display X_data_concat info:\n",
        "X_data_concat.info()\n",
        "X_data_concat.sample()"
      ],
      "metadata": {
        "colab": {
          "base_uri": "https://localhost:8080/",
          "height": 272
        },
        "id": "FO8enwA8KnyN",
        "outputId": "e4ef159b-c2ea-40b3-e119-be3a6a83edd4"
      },
      "execution_count": null,
      "outputs": [
        {
          "output_type": "stream",
          "name": "stdout",
          "text": [
            "<class 'pandas.core.frame.DataFrame'>\n",
            "Int64Index: 98728 entries, 0 to 98727\n",
            "Data columns (total 4 columns):\n",
            " #   Column       Non-Null Count  Dtype \n",
            "---  ------       --------------  ----- \n",
            " 0   designation  98728 non-null  object\n",
            " 1   description  64042 non-null  object\n",
            " 2   productid    98728 non-null  int64 \n",
            " 3   imageid      98728 non-null  int64 \n",
            "dtypes: int64(2), object(2)\n",
            "memory usage: 3.8+ MB\n"
          ]
        },
        {
          "output_type": "execute_result",
          "data": {
            "text/plain": [
              "                                             designation  \\\n",
              "95703  100pcs Bâton De Comptage Coloré En Bois Montes...   \n",
              "\n",
              "                                             description   productid  \\\n",
              "95703  <p><b>La description:</b></p><br /><p> Tiges d...  4214659786   \n",
              "\n",
              "          imageid  \n",
              "95703  1319657426  "
            ],
            "text/html": [
              "\n",
              "  <div id=\"df-8e37bebf-c2cc-4aed-ad70-eecef3f8c376\">\n",
              "    <div class=\"colab-df-container\">\n",
              "      <div>\n",
              "<style scoped>\n",
              "    .dataframe tbody tr th:only-of-type {\n",
              "        vertical-align: middle;\n",
              "    }\n",
              "\n",
              "    .dataframe tbody tr th {\n",
              "        vertical-align: top;\n",
              "    }\n",
              "\n",
              "    .dataframe thead th {\n",
              "        text-align: right;\n",
              "    }\n",
              "</style>\n",
              "<table border=\"1\" class=\"dataframe\">\n",
              "  <thead>\n",
              "    <tr style=\"text-align: right;\">\n",
              "      <th></th>\n",
              "      <th>designation</th>\n",
              "      <th>description</th>\n",
              "      <th>productid</th>\n",
              "      <th>imageid</th>\n",
              "    </tr>\n",
              "  </thead>\n",
              "  <tbody>\n",
              "    <tr>\n",
              "      <th>95703</th>\n",
              "      <td>100pcs Bâton De Comptage Coloré En Bois Montes...</td>\n",
              "      <td>&lt;p&gt;&lt;b&gt;La description:&lt;/b&gt;&lt;/p&gt;&lt;br /&gt;&lt;p&gt; Tiges d...</td>\n",
              "      <td>4214659786</td>\n",
              "      <td>1319657426</td>\n",
              "    </tr>\n",
              "  </tbody>\n",
              "</table>\n",
              "</div>\n",
              "      <button class=\"colab-df-convert\" onclick=\"convertToInteractive('df-8e37bebf-c2cc-4aed-ad70-eecef3f8c376')\"\n",
              "              title=\"Convert this dataframe to an interactive table.\"\n",
              "              style=\"display:none;\">\n",
              "        \n",
              "  <svg xmlns=\"http://www.w3.org/2000/svg\" height=\"24px\"viewBox=\"0 0 24 24\"\n",
              "       width=\"24px\">\n",
              "    <path d=\"M0 0h24v24H0V0z\" fill=\"none\"/>\n",
              "    <path d=\"M18.56 5.44l.94 2.06.94-2.06 2.06-.94-2.06-.94-.94-2.06-.94 2.06-2.06.94zm-11 1L8.5 8.5l.94-2.06 2.06-.94-2.06-.94L8.5 2.5l-.94 2.06-2.06.94zm10 10l.94 2.06.94-2.06 2.06-.94-2.06-.94-.94-2.06-.94 2.06-2.06.94z\"/><path d=\"M17.41 7.96l-1.37-1.37c-.4-.4-.92-.59-1.43-.59-.52 0-1.04.2-1.43.59L10.3 9.45l-7.72 7.72c-.78.78-.78 2.05 0 2.83L4 21.41c.39.39.9.59 1.41.59.51 0 1.02-.2 1.41-.59l7.78-7.78 2.81-2.81c.8-.78.8-2.07 0-2.86zM5.41 20L4 18.59l7.72-7.72 1.47 1.35L5.41 20z\"/>\n",
              "  </svg>\n",
              "      </button>\n",
              "      \n",
              "  <style>\n",
              "    .colab-df-container {\n",
              "      display:flex;\n",
              "      flex-wrap:wrap;\n",
              "      gap: 12px;\n",
              "    }\n",
              "\n",
              "    .colab-df-convert {\n",
              "      background-color: #E8F0FE;\n",
              "      border: none;\n",
              "      border-radius: 50%;\n",
              "      cursor: pointer;\n",
              "      display: none;\n",
              "      fill: #1967D2;\n",
              "      height: 32px;\n",
              "      padding: 0 0 0 0;\n",
              "      width: 32px;\n",
              "    }\n",
              "\n",
              "    .colab-df-convert:hover {\n",
              "      background-color: #E2EBFA;\n",
              "      box-shadow: 0px 1px 2px rgba(60, 64, 67, 0.3), 0px 1px 3px 1px rgba(60, 64, 67, 0.15);\n",
              "      fill: #174EA6;\n",
              "    }\n",
              "\n",
              "    [theme=dark] .colab-df-convert {\n",
              "      background-color: #3B4455;\n",
              "      fill: #D2E3FC;\n",
              "    }\n",
              "\n",
              "    [theme=dark] .colab-df-convert:hover {\n",
              "      background-color: #434B5C;\n",
              "      box-shadow: 0px 1px 3px 1px rgba(0, 0, 0, 0.15);\n",
              "      filter: drop-shadow(0px 1px 2px rgba(0, 0, 0, 0.3));\n",
              "      fill: #FFFFFF;\n",
              "    }\n",
              "  </style>\n",
              "\n",
              "      <script>\n",
              "        const buttonEl =\n",
              "          document.querySelector('#df-8e37bebf-c2cc-4aed-ad70-eecef3f8c376 button.colab-df-convert');\n",
              "        buttonEl.style.display =\n",
              "          google.colab.kernel.accessAllowed ? 'block' : 'none';\n",
              "\n",
              "        async function convertToInteractive(key) {\n",
              "          const element = document.querySelector('#df-8e37bebf-c2cc-4aed-ad70-eecef3f8c376');\n",
              "          const dataTable =\n",
              "            await google.colab.kernel.invokeFunction('convertToInteractive',\n",
              "                                                     [key], {});\n",
              "          if (!dataTable) return;\n",
              "\n",
              "          const docLinkHtml = 'Like what you see? Visit the ' +\n",
              "            '<a target=\"_blank\" href=https://colab.research.google.com/notebooks/data_table.ipynb>data table notebook</a>'\n",
              "            + ' to learn more about interactive tables.';\n",
              "          element.innerHTML = '';\n",
              "          dataTable['output_type'] = 'display_data';\n",
              "          await google.colab.output.renderOutput(dataTable, element);\n",
              "          const docLink = document.createElement('div');\n",
              "          docLink.innerHTML = docLinkHtml;\n",
              "          element.appendChild(docLink);\n",
              "        }\n",
              "      </script>\n",
              "    </div>\n",
              "  </div>\n",
              "  "
            ]
          },
          "metadata": {},
          "execution_count": 18
        }
      ]
    },
    {
      "cell_type": "code",
      "source": [
        "X_data_concat[\"designation\"] = X_data_concat[\"designation\"].astype(str)\n",
        "X_data_concat[\"description\"] = X_data_concat[\"description\"].astype(str)"
      ],
      "metadata": {
        "id": "-Yv9hkX3LqFv"
      },
      "execution_count": null,
      "outputs": []
    },
    {
      "cell_type": "code",
      "source": [
        "# removing special characters and symbols:\n",
        "X_data_concat['designation'] = X_data_concat['designation'].apply(lambda x: re.sub('\\W+',\" \", x ))\n",
        "X_data_concat['description'] = X_data_concat['description'].apply(lambda x: re.sub('\\W+',\" \", x ))\n",
        "\n",
        "# removing numbers:\n",
        "X_data_concat['designation'] = X_data_concat['designation'].apply(lambda x: re.sub('\\d+',\" \", x ))\n",
        "X_data_concat['description'] = X_data_concat['description'].apply(lambda x: re.sub('\\d+',\" \", x ))\n",
        "X_data_concat.head()"
      ],
      "metadata": {
        "colab": {
          "base_uri": "https://localhost:8080/",
          "height": 206
        },
        "id": "vrg-7f9kLUq4",
        "outputId": "a77b9dfc-e6be-406f-b883-26e37a4052cd"
      },
      "execution_count": null,
      "outputs": [
        {
          "output_type": "execute_result",
          "data": {
            "text/plain": [
              "                                         designation  \\\n",
              "0  Olivia Personalisiertes Notizbuch   Seiten Pun...   \n",
              "1  Journal Des Arts Le N   Du       L art Et Son ...   \n",
              "2  Grand Stylet Ergonomique Bleu Gamepad Nintendo...   \n",
              "3  Peluche Donald Europe Disneyland   Marionnette...   \n",
              "4                               La Guerre Des Tuques   \n",
              "\n",
              "                                         description   productid     imageid  \n",
              "0                                                nan  3804725264  1263597046  \n",
              "1                                                nan   436067568  1008141237  \n",
              "2  PILOT STYLE Touch Pen de marque Speedlink est ...   201115110   938777978  \n",
              "3                                                nan    50418756   457047496  \n",
              "4  Luc a des id eacute es de grandeur Il veut org...   278535884  1077757786  "
            ],
            "text/html": [
              "\n",
              "  <div id=\"df-331f5b03-5ecf-409e-945d-5ee925c5938e\">\n",
              "    <div class=\"colab-df-container\">\n",
              "      <div>\n",
              "<style scoped>\n",
              "    .dataframe tbody tr th:only-of-type {\n",
              "        vertical-align: middle;\n",
              "    }\n",
              "\n",
              "    .dataframe tbody tr th {\n",
              "        vertical-align: top;\n",
              "    }\n",
              "\n",
              "    .dataframe thead th {\n",
              "        text-align: right;\n",
              "    }\n",
              "</style>\n",
              "<table border=\"1\" class=\"dataframe\">\n",
              "  <thead>\n",
              "    <tr style=\"text-align: right;\">\n",
              "      <th></th>\n",
              "      <th>designation</th>\n",
              "      <th>description</th>\n",
              "      <th>productid</th>\n",
              "      <th>imageid</th>\n",
              "    </tr>\n",
              "  </thead>\n",
              "  <tbody>\n",
              "    <tr>\n",
              "      <th>0</th>\n",
              "      <td>Olivia Personalisiertes Notizbuch   Seiten Pun...</td>\n",
              "      <td>nan</td>\n",
              "      <td>3804725264</td>\n",
              "      <td>1263597046</td>\n",
              "    </tr>\n",
              "    <tr>\n",
              "      <th>1</th>\n",
              "      <td>Journal Des Arts Le N   Du       L art Et Son ...</td>\n",
              "      <td>nan</td>\n",
              "      <td>436067568</td>\n",
              "      <td>1008141237</td>\n",
              "    </tr>\n",
              "    <tr>\n",
              "      <th>2</th>\n",
              "      <td>Grand Stylet Ergonomique Bleu Gamepad Nintendo...</td>\n",
              "      <td>PILOT STYLE Touch Pen de marque Speedlink est ...</td>\n",
              "      <td>201115110</td>\n",
              "      <td>938777978</td>\n",
              "    </tr>\n",
              "    <tr>\n",
              "      <th>3</th>\n",
              "      <td>Peluche Donald Europe Disneyland   Marionnette...</td>\n",
              "      <td>nan</td>\n",
              "      <td>50418756</td>\n",
              "      <td>457047496</td>\n",
              "    </tr>\n",
              "    <tr>\n",
              "      <th>4</th>\n",
              "      <td>La Guerre Des Tuques</td>\n",
              "      <td>Luc a des id eacute es de grandeur Il veut org...</td>\n",
              "      <td>278535884</td>\n",
              "      <td>1077757786</td>\n",
              "    </tr>\n",
              "  </tbody>\n",
              "</table>\n",
              "</div>\n",
              "      <button class=\"colab-df-convert\" onclick=\"convertToInteractive('df-331f5b03-5ecf-409e-945d-5ee925c5938e')\"\n",
              "              title=\"Convert this dataframe to an interactive table.\"\n",
              "              style=\"display:none;\">\n",
              "        \n",
              "  <svg xmlns=\"http://www.w3.org/2000/svg\" height=\"24px\"viewBox=\"0 0 24 24\"\n",
              "       width=\"24px\">\n",
              "    <path d=\"M0 0h24v24H0V0z\" fill=\"none\"/>\n",
              "    <path d=\"M18.56 5.44l.94 2.06.94-2.06 2.06-.94-2.06-.94-.94-2.06-.94 2.06-2.06.94zm-11 1L8.5 8.5l.94-2.06 2.06-.94-2.06-.94L8.5 2.5l-.94 2.06-2.06.94zm10 10l.94 2.06.94-2.06 2.06-.94-2.06-.94-.94-2.06-.94 2.06-2.06.94z\"/><path d=\"M17.41 7.96l-1.37-1.37c-.4-.4-.92-.59-1.43-.59-.52 0-1.04.2-1.43.59L10.3 9.45l-7.72 7.72c-.78.78-.78 2.05 0 2.83L4 21.41c.39.39.9.59 1.41.59.51 0 1.02-.2 1.41-.59l7.78-7.78 2.81-2.81c.8-.78.8-2.07 0-2.86zM5.41 20L4 18.59l7.72-7.72 1.47 1.35L5.41 20z\"/>\n",
              "  </svg>\n",
              "      </button>\n",
              "      \n",
              "  <style>\n",
              "    .colab-df-container {\n",
              "      display:flex;\n",
              "      flex-wrap:wrap;\n",
              "      gap: 12px;\n",
              "    }\n",
              "\n",
              "    .colab-df-convert {\n",
              "      background-color: #E8F0FE;\n",
              "      border: none;\n",
              "      border-radius: 50%;\n",
              "      cursor: pointer;\n",
              "      display: none;\n",
              "      fill: #1967D2;\n",
              "      height: 32px;\n",
              "      padding: 0 0 0 0;\n",
              "      width: 32px;\n",
              "    }\n",
              "\n",
              "    .colab-df-convert:hover {\n",
              "      background-color: #E2EBFA;\n",
              "      box-shadow: 0px 1px 2px rgba(60, 64, 67, 0.3), 0px 1px 3px 1px rgba(60, 64, 67, 0.15);\n",
              "      fill: #174EA6;\n",
              "    }\n",
              "\n",
              "    [theme=dark] .colab-df-convert {\n",
              "      background-color: #3B4455;\n",
              "      fill: #D2E3FC;\n",
              "    }\n",
              "\n",
              "    [theme=dark] .colab-df-convert:hover {\n",
              "      background-color: #434B5C;\n",
              "      box-shadow: 0px 1px 3px 1px rgba(0, 0, 0, 0.15);\n",
              "      filter: drop-shadow(0px 1px 2px rgba(0, 0, 0, 0.3));\n",
              "      fill: #FFFFFF;\n",
              "    }\n",
              "  </style>\n",
              "\n",
              "      <script>\n",
              "        const buttonEl =\n",
              "          document.querySelector('#df-331f5b03-5ecf-409e-945d-5ee925c5938e button.colab-df-convert');\n",
              "        buttonEl.style.display =\n",
              "          google.colab.kernel.accessAllowed ? 'block' : 'none';\n",
              "\n",
              "        async function convertToInteractive(key) {\n",
              "          const element = document.querySelector('#df-331f5b03-5ecf-409e-945d-5ee925c5938e');\n",
              "          const dataTable =\n",
              "            await google.colab.kernel.invokeFunction('convertToInteractive',\n",
              "                                                     [key], {});\n",
              "          if (!dataTable) return;\n",
              "\n",
              "          const docLinkHtml = 'Like what you see? Visit the ' +\n",
              "            '<a target=\"_blank\" href=https://colab.research.google.com/notebooks/data_table.ipynb>data table notebook</a>'\n",
              "            + ' to learn more about interactive tables.';\n",
              "          element.innerHTML = '';\n",
              "          dataTable['output_type'] = 'display_data';\n",
              "          await google.colab.output.renderOutput(dataTable, element);\n",
              "          const docLink = document.createElement('div');\n",
              "          docLink.innerHTML = docLinkHtml;\n",
              "          element.appendChild(docLink);\n",
              "        }\n",
              "      </script>\n",
              "    </div>\n",
              "  </div>\n",
              "  "
            ]
          },
          "metadata": {},
          "execution_count": 20
        }
      ]
    },
    {
      "cell_type": "code",
      "source": [
        "# declaring special text, text format:\n",
        "list_special_char = '<.*?>|&([a-z0-9]+|#[0-9]{1,9}|#x[0-9a-f]{1,9});|&([A-Z])'"
      ],
      "metadata": {
        "id": "58QNzUXFPp-t"
      },
      "execution_count": null,
      "outputs": []
    },
    {
      "cell_type": "code",
      "source": [
        "#function to remove stopwords:\n",
        "def clean_sentence(sentence):\n",
        "  stop_words = set(stopwords.words('french'))\n",
        "  stop_words_new = ['br' 'Â', 'â·', 'v', 's']\n",
        "  stop_words.update(stop_words_new)\n",
        "  tokens = []\n",
        "  for word in sentence:\n",
        "    if word not in stop_words:\n",
        "      tokens.append(word)\n",
        "  return tokens"
      ],
      "metadata": {
        "id": "ZWl0Q2JFRRru"
      },
      "execution_count": null,
      "outputs": []
    },
    {
      "cell_type": "code",
      "source": [
        "# function to tokenize:\n",
        "def raw_to_tokens(raw_string):\n",
        "  tokens = {}\n",
        "  raw_string = sent_tokenize(raw_string)\n",
        "  for i, sent in enumerate(raw_string) :\n",
        "        sent_sp = re.sub(list_special_char, ' ', str(sent))  \n",
        "        sent_token = word_tokenize(sent_sp)                       \n",
        "        sent_lower = [word.lower() for word in sent_token]\n",
        "        sent_clean = clean_sentence(sent_lower)\n",
        "        tokens[i]=sent_clean\n",
        "  return tokens"
      ],
      "metadata": {
        "id": "NxR9fOy5RrI9"
      },
      "execution_count": null,
      "outputs": []
    },
    {
      "cell_type": "code",
      "source": [
        "# word tokenization of 'designation' and 'description' columns:\n",
        "X_data_concat['designation_Tokenized'] = X_data_concat['designation'].apply(lambda raw_string : raw_to_tokens(raw_string))\n",
        "X_data_concat['description_Tokenized'] = X_data_concat['description'].apply(lambda raw_string : raw_to_tokens(raw_string))\n",
        "X_data_concat.head()"
      ],
      "metadata": {
        "colab": {
          "base_uri": "https://localhost:8080/",
          "height": 206
        },
        "id": "lA_XvM3pS1ma",
        "outputId": "2d37e5e8-93a1-4563-ba49-8b777eccf360"
      },
      "execution_count": null,
      "outputs": [
        {
          "output_type": "execute_result",
          "data": {
            "text/plain": [
              "                                         designation  \\\n",
              "0  Olivia Personalisiertes Notizbuch   Seiten Pun...   \n",
              "1  Journal Des Arts Le N   Du       L art Et Son ...   \n",
              "2  Grand Stylet Ergonomique Bleu Gamepad Nintendo...   \n",
              "3  Peluche Donald Europe Disneyland   Marionnette...   \n",
              "4                               La Guerre Des Tuques   \n",
              "\n",
              "                                         description   productid     imageid  \\\n",
              "0                                                nan  3804725264  1263597046   \n",
              "1                                                nan   436067568  1008141237   \n",
              "2  PILOT STYLE Touch Pen de marque Speedlink est ...   201115110   938777978   \n",
              "3                                                nan    50418756   457047496   \n",
              "4  Luc a des id eacute es de grandeur Il veut org...   278535884  1077757786   \n",
              "\n",
              "                               designation_Tokenized  \\\n",
              "0  {0: ['olivia', 'personalisiertes', 'notizbuch'...   \n",
              "1  {0: ['journal', 'arts', 'art', 'marche', 'salo...   \n",
              "2  {0: ['grand', 'stylet', 'ergonomique', 'bleu',...   \n",
              "3  {0: ['peluche', 'donald', 'europe', 'disneylan...   \n",
              "4                          {0: ['guerre', 'tuques']}   \n",
              "\n",
              "                               description_Tokenized  \n",
              "0                                       {0: ['nan']}  \n",
              "1                                       {0: ['nan']}  \n",
              "2  {0: ['pilot', 'style', 'touch', 'pen', 'marque...  \n",
              "3                                       {0: ['nan']}  \n",
              "4  {0: ['luc', 'a', 'id', 'eacute', 'grandeur', '...  "
            ],
            "text/html": [
              "\n",
              "  <div id=\"df-4823dd01-ab1e-4628-b409-d0cb567a0e68\">\n",
              "    <div class=\"colab-df-container\">\n",
              "      <div>\n",
              "<style scoped>\n",
              "    .dataframe tbody tr th:only-of-type {\n",
              "        vertical-align: middle;\n",
              "    }\n",
              "\n",
              "    .dataframe tbody tr th {\n",
              "        vertical-align: top;\n",
              "    }\n",
              "\n",
              "    .dataframe thead th {\n",
              "        text-align: right;\n",
              "    }\n",
              "</style>\n",
              "<table border=\"1\" class=\"dataframe\">\n",
              "  <thead>\n",
              "    <tr style=\"text-align: right;\">\n",
              "      <th></th>\n",
              "      <th>designation</th>\n",
              "      <th>description</th>\n",
              "      <th>productid</th>\n",
              "      <th>imageid</th>\n",
              "      <th>designation_Tokenized</th>\n",
              "      <th>description_Tokenized</th>\n",
              "    </tr>\n",
              "  </thead>\n",
              "  <tbody>\n",
              "    <tr>\n",
              "      <th>0</th>\n",
              "      <td>Olivia Personalisiertes Notizbuch   Seiten Pun...</td>\n",
              "      <td>nan</td>\n",
              "      <td>3804725264</td>\n",
              "      <td>1263597046</td>\n",
              "      <td>{0: ['olivia', 'personalisiertes', 'notizbuch'...</td>\n",
              "      <td>{0: ['nan']}</td>\n",
              "    </tr>\n",
              "    <tr>\n",
              "      <th>1</th>\n",
              "      <td>Journal Des Arts Le N   Du       L art Et Son ...</td>\n",
              "      <td>nan</td>\n",
              "      <td>436067568</td>\n",
              "      <td>1008141237</td>\n",
              "      <td>{0: ['journal', 'arts', 'art', 'marche', 'salo...</td>\n",
              "      <td>{0: ['nan']}</td>\n",
              "    </tr>\n",
              "    <tr>\n",
              "      <th>2</th>\n",
              "      <td>Grand Stylet Ergonomique Bleu Gamepad Nintendo...</td>\n",
              "      <td>PILOT STYLE Touch Pen de marque Speedlink est ...</td>\n",
              "      <td>201115110</td>\n",
              "      <td>938777978</td>\n",
              "      <td>{0: ['grand', 'stylet', 'ergonomique', 'bleu',...</td>\n",
              "      <td>{0: ['pilot', 'style', 'touch', 'pen', 'marque...</td>\n",
              "    </tr>\n",
              "    <tr>\n",
              "      <th>3</th>\n",
              "      <td>Peluche Donald Europe Disneyland   Marionnette...</td>\n",
              "      <td>nan</td>\n",
              "      <td>50418756</td>\n",
              "      <td>457047496</td>\n",
              "      <td>{0: ['peluche', 'donald', 'europe', 'disneylan...</td>\n",
              "      <td>{0: ['nan']}</td>\n",
              "    </tr>\n",
              "    <tr>\n",
              "      <th>4</th>\n",
              "      <td>La Guerre Des Tuques</td>\n",
              "      <td>Luc a des id eacute es de grandeur Il veut org...</td>\n",
              "      <td>278535884</td>\n",
              "      <td>1077757786</td>\n",
              "      <td>{0: ['guerre', 'tuques']}</td>\n",
              "      <td>{0: ['luc', 'a', 'id', 'eacute', 'grandeur', '...</td>\n",
              "    </tr>\n",
              "  </tbody>\n",
              "</table>\n",
              "</div>\n",
              "      <button class=\"colab-df-convert\" onclick=\"convertToInteractive('df-4823dd01-ab1e-4628-b409-d0cb567a0e68')\"\n",
              "              title=\"Convert this dataframe to an interactive table.\"\n",
              "              style=\"display:none;\">\n",
              "        \n",
              "  <svg xmlns=\"http://www.w3.org/2000/svg\" height=\"24px\"viewBox=\"0 0 24 24\"\n",
              "       width=\"24px\">\n",
              "    <path d=\"M0 0h24v24H0V0z\" fill=\"none\"/>\n",
              "    <path d=\"M18.56 5.44l.94 2.06.94-2.06 2.06-.94-2.06-.94-.94-2.06-.94 2.06-2.06.94zm-11 1L8.5 8.5l.94-2.06 2.06-.94-2.06-.94L8.5 2.5l-.94 2.06-2.06.94zm10 10l.94 2.06.94-2.06 2.06-.94-2.06-.94-.94-2.06-.94 2.06-2.06.94z\"/><path d=\"M17.41 7.96l-1.37-1.37c-.4-.4-.92-.59-1.43-.59-.52 0-1.04.2-1.43.59L10.3 9.45l-7.72 7.72c-.78.78-.78 2.05 0 2.83L4 21.41c.39.39.9.59 1.41.59.51 0 1.02-.2 1.41-.59l7.78-7.78 2.81-2.81c.8-.78.8-2.07 0-2.86zM5.41 20L4 18.59l7.72-7.72 1.47 1.35L5.41 20z\"/>\n",
              "  </svg>\n",
              "      </button>\n",
              "      \n",
              "  <style>\n",
              "    .colab-df-container {\n",
              "      display:flex;\n",
              "      flex-wrap:wrap;\n",
              "      gap: 12px;\n",
              "    }\n",
              "\n",
              "    .colab-df-convert {\n",
              "      background-color: #E8F0FE;\n",
              "      border: none;\n",
              "      border-radius: 50%;\n",
              "      cursor: pointer;\n",
              "      display: none;\n",
              "      fill: #1967D2;\n",
              "      height: 32px;\n",
              "      padding: 0 0 0 0;\n",
              "      width: 32px;\n",
              "    }\n",
              "\n",
              "    .colab-df-convert:hover {\n",
              "      background-color: #E2EBFA;\n",
              "      box-shadow: 0px 1px 2px rgba(60, 64, 67, 0.3), 0px 1px 3px 1px rgba(60, 64, 67, 0.15);\n",
              "      fill: #174EA6;\n",
              "    }\n",
              "\n",
              "    [theme=dark] .colab-df-convert {\n",
              "      background-color: #3B4455;\n",
              "      fill: #D2E3FC;\n",
              "    }\n",
              "\n",
              "    [theme=dark] .colab-df-convert:hover {\n",
              "      background-color: #434B5C;\n",
              "      box-shadow: 0px 1px 3px 1px rgba(0, 0, 0, 0.15);\n",
              "      filter: drop-shadow(0px 1px 2px rgba(0, 0, 0, 0.3));\n",
              "      fill: #FFFFFF;\n",
              "    }\n",
              "  </style>\n",
              "\n",
              "      <script>\n",
              "        const buttonEl =\n",
              "          document.querySelector('#df-4823dd01-ab1e-4628-b409-d0cb567a0e68 button.colab-df-convert');\n",
              "        buttonEl.style.display =\n",
              "          google.colab.kernel.accessAllowed ? 'block' : 'none';\n",
              "\n",
              "        async function convertToInteractive(key) {\n",
              "          const element = document.querySelector('#df-4823dd01-ab1e-4628-b409-d0cb567a0e68');\n",
              "          const dataTable =\n",
              "            await google.colab.kernel.invokeFunction('convertToInteractive',\n",
              "                                                     [key], {});\n",
              "          if (!dataTable) return;\n",
              "\n",
              "          const docLinkHtml = 'Like what you see? Visit the ' +\n",
              "            '<a target=\"_blank\" href=https://colab.research.google.com/notebooks/data_table.ipynb>data table notebook</a>'\n",
              "            + ' to learn more about interactive tables.';\n",
              "          element.innerHTML = '';\n",
              "          dataTable['output_type'] = 'display_data';\n",
              "          await google.colab.output.renderOutput(dataTable, element);\n",
              "          const docLink = document.createElement('div');\n",
              "          docLink.innerHTML = docLinkHtml;\n",
              "          element.appendChild(docLink);\n",
              "        }\n",
              "      </script>\n",
              "    </div>\n",
              "  </div>\n",
              "  "
            ]
          },
          "metadata": {},
          "execution_count": 24
        }
      ]
    },
    {
      "cell_type": "code",
      "source": [
        "X_data_concat.to_csv(path + 'Data/X_data_concat_tokenized.csv', encoding='utf-8', index=False)"
      ],
      "metadata": {
        "id": "YcfrZMF1TvHA"
      },
      "execution_count": null,
      "outputs": []
    },
    {
      "cell_type": "markdown",
      "source": [
        "## WORD COUNT (PROCESSED DATA)"
      ],
      "metadata": {
        "id": "8EyDz5vprI4-"
      }
    },
    {
      "cell_type": "code",
      "source": [
        "X_data_concat_word_count = pd.read_csv(path + '/Data/X_data_concat_tokenized.csv')\n",
        "X_data_concat_word_count[\"designation\"] = X_data_concat_word_count[\"designation\"].astype(str)\n",
        "X_data_concat_word_count[\"description\"] = X_data_concat_word_count[\"description\"].astype(str)\n",
        "\n",
        "## X_train\n",
        "# function to count number of words+char\n",
        "def count_words(sentence):\n",
        "  word_count = len(sentence.split())\n",
        "  return word_count\n",
        "# # Average number of words in \"designation\" column:\n",
        "# X_data_concat_word_count['desig_word_count'] = X_data_concat_word_count['designation'].apply(lambda sentence : count_words(sentence))\n",
        "# mean = np.round(X_data_concat_word_count['desig_word_count'].mean(),2)\n",
        "# print('X_train - Average number of words+char in \"designation\" per product before text cleaning:', mean)\n",
        "\n",
        "# # # Average number of words+char in \"description\" column:\n",
        "# X_data_concat_word_count['descr_word_count'] = X_data_concat_word_count['description'].apply(lambda sentence : count_words(sentence))\n",
        "# mean = np.round(X_data_concat_word_count['descr_word_count'].mean(),2)\n",
        "# print('X_train - Average number of words+char in \"description\" per product before text cleaning:', mean)\n",
        "\n",
        "\n",
        "# Average number of words in \"designation\" column:\n",
        "X_data_concat_word_count['desig_word_count'] = X_data_concat_word_count['designation'].apply(lambda sentence : count_words(sentence))\n",
        "median_desi = np.round(X_data_concat_word_count['desig_word_count'].median(),2)\n",
        "max_desi = np.round(X_data_concat_word_count['desig_word_count'].max(),2)\n",
        "print('X_train - Median length of words+char in \"designation\" per product after text cleaning:', median_desi)\n",
        "print('X_train - Maximum of words+char in \"designation\" per product before text cleaning:', max_desi)\n",
        "\n",
        "# # Average number of words+char in \"description\" column:\n",
        "X_data_concat_word_count['descr_word_count'] = X_data_concat_word_count['description'].apply(lambda sentence : count_words(sentence))\n",
        "median_desc = np.round(X_data_concat_word_count['descr_word_count'].median(),2)\n",
        "max_desc = np.round(X_data_concat_word_count['descr_word_count'].max(),2)\n",
        "print('X_train - Median length of words+char in \"description\" per product after text cleaning:', median_desc)\n",
        "print('X_train - Maximum of words+char in \"designation\" per product before text cleaning:', max_desc)"
      ],
      "metadata": {
        "colab": {
          "base_uri": "https://localhost:8080/"
        },
        "id": "7K61Ji50r8sW",
        "outputId": "7efb41c2-107e-4f9c-d3de-da6a608e94aa"
      },
      "execution_count": null,
      "outputs": [
        {
          "output_type": "stream",
          "name": "stdout",
          "text": [
            "X_train - Median length of words+char in \"designation\" per product after text cleaning: 10.0\n",
            "X_train - Maximum of words+char in \"designation\" per product before text cleaning: 47\n",
            "X_train - Median length of words+char in \"description\" per product after text cleaning: 35.0\n",
            "X_train - Maximum of words+char in \"designation\" per product before text cleaning: 3660\n"
          ]
        }
      ]
    },
    {
      "cell_type": "markdown",
      "source": [
        "# ***X_train(after text mining):***\n",
        "### Median length of words+char in X_train dataset (desination column) is ~10, with a maxmimum of 47 words.\n",
        "### Median length number of words+char in X_train dataset (description column) is ~35, with a maximum of 3660 words."
      ],
      "metadata": {
        "id": "nQCUIUdYOmid"
      }
    },
    {
      "cell_type": "markdown",
      "source": [
        "## Vectorization (using TfidVectorizer)"
      ],
      "metadata": {
        "id": "HC3sjsD4vOV3"
      }
    },
    {
      "cell_type": "code",
      "source": [
        "X_data_concat = pd.read_csv(path + '/Data/X_data_concat_tokenized.csv')\n",
        "X_data_concat_desig = X_data_concat['designation']\n",
        "X_data_concat_descr = X_data_concat['description']\n",
        "# TfidfVectorizer object initiation:\n",
        "tfidf = TfidfVectorizer()\n",
        "\n",
        "# vectorize the 'designation' column:\n",
        "X_tfidf_desig = tfidf.fit_transform(X_data_concat_desig.astype('U'))\n",
        "print(\"Shape of the TF-IDF Matrix ('desgination'):\")\n",
        "print(X_tfidf_desig.shape)"
      ],
      "metadata": {
        "colab": {
          "base_uri": "https://localhost:8080/"
        },
        "id": "jlheA6rxvRBk",
        "outputId": "6d10ab07-189f-4628-f26e-82c0e4413f61"
      },
      "execution_count": null,
      "outputs": [
        {
          "output_type": "stream",
          "name": "stdout",
          "text": [
            "Shape of the TF-IDF Matrix ('desgination'):\n",
            "(98728, 66977)\n"
          ]
        }
      ]
    },
    {
      "cell_type": "code",
      "source": [
        "# vectorize the 'description' column:\n",
        "X_tfidf_descr = tfidf.fit_transform(X_data_concat_descr.astype('U'))\n",
        "print(\"Shape of the TF-IDF Matrix ('description'):\")\n",
        "print(X_tfidf_descr.shape)"
      ],
      "metadata": {
        "colab": {
          "base_uri": "https://localhost:8080/"
        },
        "id": "E6kYaHcTxxpf",
        "outputId": "ec61531d-fd48-4193-d70d-55189b7d7b28"
      },
      "execution_count": null,
      "outputs": [
        {
          "output_type": "stream",
          "name": "stdout",
          "text": [
            "Shape of the TF-IDF Matrix ('description'):\n",
            "(98728, 116525)\n"
          ]
        }
      ]
    },
    {
      "cell_type": "code",
      "source": [
        "# splitting train and test datasets:\n",
        "X_train = X_tfidf_desig[:84916, : ]\n",
        "X_test = X_tfidf_desig[84916:, : ]\n",
        "y_train = pd.read_csv(path +'/Data/Y_train_CVw08PX.csv', index_col = 0)\n",
        "X_train, X_test, y_train, y_test = train_test_split(X_train, y_train, random_state = 21)"
      ],
      "metadata": {
        "id": "Fh4mRSFEzH1a"
      },
      "execution_count": null,
      "outputs": []
    },
    {
      "cell_type": "markdown",
      "source": [
        "## Multi-Label Classification:\n",
        "### The dataset is a multi-label classification model. Below are the common models for the analysis of the database:\n",
        "### Decision Trees\n",
        "### Random Forests\n",
        "### Gradient Boosting"
      ],
      "metadata": {
        "id": "mLH-RfHJ18A3"
      }
    },
    {
      "cell_type": "markdown",
      "source": [
        "## RANDOM FOREST:"
      ],
      "metadata": {
        "id": "IffrJfrWaSq2"
      }
    },
    {
      "cell_type": "code",
      "source": [
        "# Random Forest Classifier model:\n",
        "rf_clf = ensemble.RandomForestClassifier(n_jobs = 1, random_state = 42)\n",
        "# train the model on the training set:\n",
        "rf_clf.fit(X_train, y_train.values.ravel())"
      ],
      "metadata": {
        "colab": {
          "base_uri": "https://localhost:8080/"
        },
        "id": "QdXA1VPe1IpS",
        "outputId": "95b66e96-225e-421a-a2ce-ae8f79707505"
      },
      "execution_count": null,
      "outputs": [
        {
          "output_type": "execute_result",
          "data": {
            "text/plain": [
              "RandomForestClassifier(n_jobs=1, random_state=42)"
            ]
          },
          "metadata": {},
          "execution_count": 30
        }
      ]
    },
    {
      "cell_type": "code",
      "source": [
        "# Predict the test set data:\n",
        "y_pred = pd.DataFrame(rf_clf.predict(X_test))"
      ],
      "metadata": {
        "id": "c3BofMc915NM"
      },
      "execution_count": null,
      "outputs": []
    },
    {
      "cell_type": "code",
      "source": [
        "y_probas = rf_clf.predict_proba(X_test)\n",
        "y_probas"
      ],
      "metadata": {
        "colab": {
          "base_uri": "https://localhost:8080/"
        },
        "id": "0_huMbCc5qTO",
        "outputId": "1f4611da-5271-4651-f16e-9568f3f6d8e3"
      },
      "execution_count": null,
      "outputs": [
        {
          "output_type": "execute_result",
          "data": {
            "text/plain": [
              "array([[0.  , 0.  , 0.  , ..., 0.89, 0.  , 0.  ],\n",
              "       [0.09, 0.01, 0.01, ..., 0.  , 0.24, 0.  ],\n",
              "       [0.  , 0.  , 0.  , ..., 0.  , 0.  , 0.  ],\n",
              "       ...,\n",
              "       [0.  , 0.  , 0.  , ..., 0.  , 0.  , 0.  ],\n",
              "       [0.02, 0.  , 0.  , ..., 0.  , 0.04, 0.  ],\n",
              "       [0.  , 0.  , 0.  , ..., 0.  , 0.  , 0.  ]])"
            ]
          },
          "metadata": {},
          "execution_count": 32
        }
      ]
    },
    {
      "cell_type": "code",
      "source": [
        "# Random Forest Classifier score:\n",
        "rf_clf.score(X_test, y_test)"
      ],
      "metadata": {
        "colab": {
          "base_uri": "https://localhost:8080/"
        },
        "id": "tLE-yOUK6ASV",
        "outputId": "33d5f1f6-97ea-4a40-d7a3-c697ed950db2"
      },
      "execution_count": null,
      "outputs": [
        {
          "output_type": "execute_result",
          "data": {
            "text/plain": [
              "0.7802534269160111"
            ]
          },
          "metadata": {},
          "execution_count": 33
        }
      ]
    },
    {
      "cell_type": "code",
      "source": [
        "#confusion matrix data\n",
        "import seaborn as sns\n",
        "matrix = confusion_matrix(y_test, y_pred)\n",
        "matrix = np.around(matrix.astype('float') / matrix.sum(axis=1)[:, np.newaxis], decimals=2)\n",
        "\n",
        "# Build the plot\n",
        "plt.figure(figsize=(18,7))\n",
        "sns.set(font_scale=1.4)\n",
        "sns.heatmap(matrix, annot=True, annot_kws={'size':10},\n",
        "            cmap=plt.cm.Greens, linewidths=0.2)\n",
        "\n",
        "# Add labels to the plot\n",
        "class_names = ['10', '40', '50', '60', '1140', '1160', '1180', '1280', '1281', '1300', '1301', '1302', '1320', '1560', '1920', '1940', '2060', '2220', '2280', '2403', '2462', '2522', '2582', '2583', '2585', '2705', '2905']\n",
        "tick_marks = np.arange(len(class_names))\n",
        "tick_marks2 = tick_marks + 0.5\n",
        "plt.xticks(tick_marks, class_names, rotation=45)\n",
        "plt.yticks(tick_marks2, class_names, rotation=0)\n",
        "plt.xlabel('Predicted label')\n",
        "plt.ylabel('True label')\n",
        "plt.title('Confusion Matrix for Random Forest Model')\n",
        "plt.show()"
      ],
      "metadata": {
        "colab": {
          "base_uri": "https://localhost:8080/",
          "height": 501
        },
        "id": "eQB63pNj6eF8",
        "outputId": "e00408c1-3f49-4b9d-fe77-fda8dc851229"
      },
      "execution_count": null,
      "outputs": [
        {
          "output_type": "display_data",
          "data": {
            "text/plain": [
              "<Figure size 1296x504 with 2 Axes>"
            ],
            "image/png": "[encoded data removed]"
          },
          "metadata": {
            "needs_background": "light"
          }
        }
      ]
    },
    {
      "cell_type": "code",
      "source": [
        "# classification report of the model:\n",
        "report = classification_report(y_pred, y_test, output_dict=True)\n",
        "report_df = pd.DataFrame(report).T\n",
        "report_df.to_csv(\"classification_report_rf_clf.csv\")\n",
        "\n",
        "cr = pd.read_csv(\"classification_report_rf_clf.csv\", index_col=0)\n",
        "print(cr)\n",
        "cr_f1= cr.iloc[0:-3,:]\n",
        "cr_f1 = cr.sort_values(by= 'f1-score', axis=0, ascending=False)\n",
        "\n",
        "fig, ax1 = plt.subplots(figsize=(20, 10))\n",
        "sns.barplot(x=cr_f1.index, y='f1-score',  data = cr_f1, color = 'lightblue')\n",
        "# sns.barplot(x=cr_f1.index, y=cr_f1['precision'], color = 'orange')\n",
        "plt.xticks(tick_marks, cr_f1.index , rotation=45)\n",
        "plt.xlabel('prdtypecode')\n",
        "plt.ylabel('Score')\n",
        "plt.title('Classification Report for Random Forest Model')\n",
        "plt.show();"
      ],
      "metadata": {
        "colab": {
          "base_uri": "https://localhost:8080/",
          "height": 1000
        },
        "id": "q7T9imA47GAH",
        "outputId": "111f0cf4-41bb-4744-dc6f-aa0c79717104"
      },
      "execution_count": null,
      "outputs": [
        {
          "output_type": "stream",
          "name": "stdout",
          "text": [
            "              precision    recall  f1-score       support\n",
            "10             0.485046  0.328634  0.391807   1135.000000\n",
            "40             0.612440  0.739884  0.670157    519.000000\n",
            "50             0.784653  0.808673  0.796482    392.000000\n",
            "60             0.855814  0.938776  0.895377    196.000000\n",
            "1140           0.762611  0.759232  0.760918    677.000000\n",
            "1160           0.919223  0.920164  0.919693    977.000000\n",
            "1180           0.452261  0.849057  0.590164    106.000000\n",
            "1280           0.603819  0.718750  0.656291   1056.000000\n",
            "1281           0.422311  0.609195  0.498824    348.000000\n",
            "1300           0.933280  0.873606  0.902458   1345.000000\n",
            "1301           0.898058  0.973684  0.934343    190.000000\n",
            "1302           0.734789  0.880374  0.801020    535.000000\n",
            "1320           0.693727  0.818578  0.750999    689.000000\n",
            "1560           0.842723  0.790169  0.815600   1363.000000\n",
            "1920           0.910900  0.875228  0.892708   1098.000000\n",
            "1940           0.671875  0.848684  0.750000    152.000000\n",
            "2060           0.817177  0.778138  0.797180   1235.000000\n",
            "2220           0.694301  0.899329  0.783626    149.000000\n",
            "2280           0.744698  0.731571  0.738076   1248.000000\n",
            "2403           0.731281  0.750640  0.740834   1171.000000\n",
            "2462           0.799427  0.752022  0.775000    371.000000\n",
            "2522           0.880632  0.911620  0.895858   1222.000000\n",
            "2582           0.606876  0.805556  0.692242    504.000000\n",
            "2583           0.976541  0.906273  0.940096   2710.000000\n",
            "2585           0.669243  0.840777  0.745267    515.000000\n",
            "2705           0.688293  0.436494  0.534209   1118.000000\n",
            "2905           0.990431  0.995192  0.992806    208.000000\n",
            "accuracy       0.780253  0.780253  0.780253      0.780253\n",
            "macro avg      0.747497  0.797789  0.765261  21229.000000\n",
            "weighted avg   0.785816  0.780253  0.778301  21229.000000\n"
          ]
        },
        {
          "output_type": "display_data",
          "data": {
            "text/plain": [
              "<Figure size 1440x720 with 1 Axes>"
            ],
            "image/png": "[encoded data removed]"
          },
          "metadata": {}
        }
      ]
    },
    {
      "cell_type": "code",
      "source": [
        "#Out of Bag error:\n",
        "\n",
        "RANDOM_STATE = 123\n",
        "\n",
        "# Generate a binary classification dataset.\n",
        "X_train, y_train = make_classification(\n",
        "    n_samples=500,\n",
        "    n_features=25,\n",
        "    n_clusters_per_class=1,\n",
        "    n_informative=15,\n",
        "    random_state=RANDOM_STATE,\n",
        ")\n",
        "# support for parallelized ensembles but is necessary for tracking the OOB\n",
        "# error trajectory during training.\n",
        "ensemble_clfs = [\n",
        "    (\n",
        "        \"RandomForestClassifier, max_features='sqrt'\",\n",
        "        RandomForestClassifier(\n",
        "            warm_start=True,\n",
        "            oob_score=True,\n",
        "            max_features=\"sqrt\",\n",
        "            random_state=RANDOM_STATE,\n",
        "        ),\n",
        "    ),\n",
        "    (\n",
        "        \"RandomForestClassifier, max_features='log2'\",\n",
        "        RandomForestClassifier(\n",
        "            warm_start=True,\n",
        "            max_features=\"log2\",\n",
        "            oob_score=True,\n",
        "            random_state=RANDOM_STATE,\n",
        "        ),\n",
        "    ),\n",
        "    (\n",
        "        \"RandomForestClassifier, max_features=None\",\n",
        "        RandomForestClassifier(\n",
        "            warm_start=True,\n",
        "            max_features=None,\n",
        "            oob_score=True,\n",
        "            random_state=RANDOM_STATE,\n",
        "        ),\n",
        "    ),\n",
        "]\n",
        "\n",
        "# Map a classifier name to a list of (<n_estimators>, <error rate>) pairs.\n",
        "error_rate = OrderedDict((label, []) for label, _ in ensemble_clfs)\n",
        "\n",
        "# Range of 'n_estimators' values to explore.\n",
        "min_estimators = 15\n",
        "max_estimators = 300\n",
        "\n",
        "for label, clf in ensemble_clfs:\n",
        "    for i in range(min_estimators, max_estimators + 1, 5):\n",
        "        clf.set_params(n_estimators=i)\n",
        "        clf.fit(X_train, y_train)\n",
        "\n",
        "        # Record the OOB error for each `n_estimators=i` setting.\n",
        "        oob_error = 1 - clf.oob_score_\n",
        "        error_rate[label].append((i, oob_error))\n",
        "\n",
        "# Generate the \"OOB error rate\" vs. \"n_estimators\" plot.\n",
        "for label, clf_err in error_rate.items():\n",
        "    xs, ys = zip(*clf_err)\n",
        "    plt.plot(xs, ys, label=label)\n",
        "# plt.figure(figsize=(18,7))\n",
        "plt.xlim(min_estimators, max_estimators)\n",
        "plt.xlabel(\"n_estimators\")\n",
        "plt.ylabel(\"OOB error rate\")\n",
        "plt.legend(loc='best', fontsize=10, title_fontsize=15)\n",
        "plt.show()"
      ],
      "metadata": {
        "colab": {
          "base_uri": "https://localhost:8080/",
          "height": 295
        },
        "id": "q2F5lm5b9toB",
        "outputId": "a762791e-5de9-4324-d593-e2db9a6c3aff"
      },
      "execution_count": null,
      "outputs": [
        {
          "output_type": "display_data",
          "data": {
            "text/plain": [
              "<Figure size 432x288 with 1 Axes>"
            ],
            "image/png": "[encoded data removed]"
          },
          "metadata": {}
        }
      ]
    },
    {
      "cell_type": "markdown",
      "source": [
        "# OBSERVATIONS:\n",
        "## f1 Score for the text mining and analysis is 0.778301\n",
        "## prediction Score for the text mining and analysis is 0.785816\n",
        "## recall Score for the text mining and analysis is 0.780253"
      ],
      "metadata": {
        "id": "r5msjL7yU67y"
      }
    },
    {
      "cell_type": "markdown",
      "source": [
        "## RANDOM FOREST WITH 3 FOLD CROSS VALIDATION TO GET BEST PARAMETERS:"
      ],
      "metadata": {
        "id": "SNOxwlV9aE0O"
      }
    },
    {
      "cell_type": "code",
      "source": [
        "X_train = X_tfidf_desig[:84916, : ]\n",
        "X_test = X_tfidf_desig[84916:, : ]\n",
        "y_train = pd.read_csv(path +'/Data/Y_train_CVw08PX.csv', index_col = 0)\n",
        "X_train, X_test, y_train, y_test = train_test_split(X_train, y_train, random_state = 21)"
      ],
      "metadata": {
        "id": "8h4Jq3brZ_9g"
      },
      "execution_count": null,
      "outputs": []
    },
    {
      "cell_type": "code",
      "source": [
        "from sklearn.ensemble import BaggingClassifier\n",
        "from sklearn.tree import DecisionTreeClassifier  # use decision tree as base estimator\n",
        "bagging = BaggingClassifier(None, 20)\n",
        "\n",
        "bagging.fit(X_train, y_train.values.ravel())"
      ],
      "metadata": {
        "colab": {
          "base_uri": "https://localhost:8080/"
        },
        "id": "IPgY6hkcTavD",
        "outputId": "cc16c0ad-5001-40c5-90e1-318fa0f44db9"
      },
      "execution_count": null,
      "outputs": [
        {
          "output_type": "execute_result",
          "data": {
            "text/plain": [
              "BaggingClassifier(n_estimators=20)"
            ]
          },
          "metadata": {},
          "execution_count": 38
        }
      ]
    },
    {
      "cell_type": "code",
      "source": [
        "y_pred = pd.DataFrame(bagging.predict(X_test))"
      ],
      "metadata": {
        "id": "29grAJzhcoaD"
      },
      "execution_count": null,
      "outputs": []
    },
    {
      "cell_type": "code",
      "source": [
        "from sklearn.model_selection import RandomizedSearchCV\n",
        "# Number of trees in random forest\n",
        "n_estimators = [int(x) for x in np.linspace(50, 150, num = 10)]\n",
        "\n",
        "# Maximum number of levels in tree\n",
        "max_depth = [int(x) for x in np.linspace(10, 200, num = 10)]\n",
        "max_depth.append(None)\n",
        "\n",
        "# Minimum number of samples required to split a node\n",
        "min_samples_split = [2, 5, 10]\n",
        "\n",
        "# Minimum number of samples required at each leaf node\n",
        "min_samples_leaf = [1, 2, 4]\n",
        "\n",
        "# Method of selecting samples for training each tree\n",
        "bootstrap = [True, False]\n",
        "\n",
        "# Create the random grid\n",
        "random_grid = {'n_estimators': n_estimators,\n",
        "               'max_depth': max_depth,\n",
        "               'min_samples_split': min_samples_split,\n",
        "               'min_samples_leaf': min_samples_leaf,\n",
        "               'bootstrap': bootstrap}\n",
        "print(random_grid)"
      ],
      "metadata": {
        "colab": {
          "base_uri": "https://localhost:8080/"
        },
        "id": "vaa4_ZuGdpZ4",
        "outputId": "6e04d1b7-301a-4a59-abcc-d3d295e63087"
      },
      "execution_count": null,
      "outputs": [
        {
          "output_type": "stream",
          "name": "stdout",
          "text": [
            "{'n_estimators': [50, 61, 72, 83, 94, 105, 116, 127, 138, 150], 'max_depth': [10, 31, 52, 73, 94, 115, 136, 157, 178, 200, None], 'min_samples_split': [2, 5, 10], 'min_samples_leaf': [1, 2, 4], 'bootstrap': [True, False]}\n"
          ]
        }
      ]
    },
    {
      "cell_type": "code",
      "source": [
        "from sklearn.ensemble import RandomForestClassifier\n",
        "\n",
        "# random grid to search for best hyperparameters\n",
        "rf = RandomForestClassifier()\n",
        "# parameters using 3 fold cross validation, \n",
        "rf_random = RandomizedSearchCV(estimator = rf, param_distributions = random_grid,\n",
        "                               n_iter = 20, cv = 3, verbose=1, random_state=42, scoring = 'f1_weighted')\n",
        "\n",
        "# train the model\n",
        "rf_random.fit(X_train, y_train.values.ravel())"
      ],
      "metadata": {
        "colab": {
          "base_uri": "https://localhost:8080/"
        },
        "id": "zFJ5qDLpdsvm",
        "outputId": "d70d2846-d504-48f4-a172-d2e7023da414"
      },
      "execution_count": null,
      "outputs": [
        {
          "output_type": "stream",
          "name": "stdout",
          "text": [
            "Fitting 3 folds for each of 20 candidates, totalling 60 fits\n"
          ]
        },
        {
          "output_type": "execute_result",
          "data": {
            "text/plain": [
              "RandomizedSearchCV(cv=3, estimator=RandomForestClassifier(), n_iter=20,\n",
              "                   param_distributions={'bootstrap': [True, False],\n",
              "                                        'max_depth': [10, 31, 52, 73, 94, 115,\n",
              "                                                      136, 157, 178, 200,\n",
              "                                                      None],\n",
              "                                        'min_samples_leaf': [1, 2, 4],\n",
              "                                        'min_samples_split': [2, 5, 10],\n",
              "                                        'n_estimators': [50, 61, 72, 83, 94,\n",
              "                                                         105, 116, 127, 138,\n",
              "                                                         150]},\n",
              "                   random_state=42, scoring='f1_weighted', verbose=1)"
            ]
          },
          "metadata": {},
          "execution_count": 41
        }
      ]
    },
    {
      "cell_type": "code",
      "source": [
        "# best parameters:\n",
        "rf_random.best_params_"
      ],
      "metadata": {
        "colab": {
          "base_uri": "https://localhost:8080/"
        },
        "id": "WCepsGpUeNtX",
        "outputId": "8a037735-a7bf-4fb3-8d8c-171670cc138b"
      },
      "execution_count": null,
      "outputs": [
        {
          "output_type": "execute_result",
          "data": {
            "text/plain": [
              "{'bootstrap': False,\n",
              " 'max_depth': 178,\n",
              " 'min_samples_leaf': 1,\n",
              " 'min_samples_split': 10,\n",
              " 'n_estimators': 50}"
            ]
          },
          "metadata": {},
          "execution_count": 42
        }
      ]
    },
    {
      "cell_type": "code",
      "source": [
        "# cross validation results:\n",
        "rf_random.cv_results_"
      ],
      "metadata": {
        "colab": {
          "base_uri": "https://localhost:8080/"
        },
        "id": "S25pF9uHeQOu",
        "outputId": "bd38f6d3-fb14-41ab-f455-418d64a0e889"
      },
      "execution_count": null,
      "outputs": [
        {
          "output_type": "execute_result",
          "data": {
            "text/plain": [
              "{'mean_fit_time': array([ 84.54025841,   6.34576694,  18.98368398,  51.86923393,\n",
              "         87.22376919,  74.58104595,  84.63909507,  37.64120865,\n",
              "         78.94468633,   8.16132037,  28.78563905,   6.58855295,\n",
              "        151.39130155,  30.90102426,  81.07431674, 162.6784157 ,\n",
              "         72.86745962,  37.64079436,  66.4053568 ,  37.15571523]),\n",
              " 'mean_score_time': array([1.37658032, 0.62735248, 0.56545981, 0.7458926 , 0.92527564,\n",
              "        1.22149754, 1.37174249, 1.17118192, 1.25084201, 0.86112475,\n",
              "        0.8357141 , 0.4927392 , 1.9514118 , 1.03352833, 1.17233308,\n",
              "        1.6431152 , 1.29337899, 1.24824071, 1.66956727, 0.9742581 ]),\n",
              " 'mean_test_score': array([0.5923867 , 0.22412623, 0.55870739, 0.62658315, 0.72180842,\n",
              "        0.63528992, 0.68431471, 0.59985568, 0.65345593, 0.22415127,\n",
              "        0.47575479, 0.23347921, 0.66797587, 0.53262326, 0.63161591,\n",
              "        0.69184591, 0.58564094, 0.50202213, 0.67710325, 0.63432906]),\n",
              " 'param_bootstrap': masked_array(data=[False, True, True, False, False, False, True, True,\n",
              "                    False, True, False, False, False, True, False, False,\n",
              "                    False, False, True, True],\n",
              "              mask=[False, False, False, False, False, False, False, False,\n",
              "                    False, False, False, False, False, False, False, False,\n",
              "                    False, False, False, False],\n",
              "        fill_value='?',\n",
              "             dtype=object),\n",
              " 'param_max_depth': masked_array(data=[94, 10, 73, 157, 178, 178, 115, 94, 157, 10, 31, 10,\n",
              "                    94, 52, 157, 115, 73, 31, None, 136],\n",
              "              mask=[False, False, False, False, False, False, False, False,\n",
              "                    False, False, False, False, False, False, False, False,\n",
              "                    False, False, False, False],\n",
              "        fill_value='?',\n",
              "             dtype=object),\n",
              " 'param_min_samples_leaf': masked_array(data=[4, 2, 4, 4, 1, 4, 1, 2, 2, 4, 2, 4, 1, 4, 4, 1, 2, 1,\n",
              "                    4, 2],\n",
              "              mask=[False, False, False, False, False, False, False, False,\n",
              "                    False, False, False, False, False, False, False, False,\n",
              "                    False, False, False, False],\n",
              "        fill_value='?',\n",
              "             dtype=object),\n",
              " 'param_min_samples_split': masked_array(data=[5, 10, 10, 2, 10, 10, 5, 10, 2, 2, 2, 10, 10, 2, 5, 5,\n",
              "                    10, 10, 10, 5],\n",
              "              mask=[False, False, False, False, False, False, False, False,\n",
              "                    False, False, False, False, False, False, False, False,\n",
              "                    False, False, False, False],\n",
              "        fill_value='?',\n",
              "             dtype=object),\n",
              " 'param_n_estimators': masked_array(data=[138, 116, 61, 61, 50, 83, 94, 94, 83, 150, 116, 83,\n",
              "                    150, 127, 94, 116, 138, 127, 94, 72],\n",
              "              mask=[False, False, False, False, False, False, False, False,\n",
              "                    False, False, False, False, False, False, False, False,\n",
              "                    False, False, False, False],\n",
              "        fill_value='?',\n",
              "             dtype=object),\n",
              " 'params': [{'bootstrap': False,\n",
              "   'max_depth': 94,\n",
              "   'min_samples_leaf': 4,\n",
              "   'min_samples_split': 5,\n",
              "   'n_estimators': 138},\n",
              "  {'bootstrap': True,\n",
              "   'max_depth': 10,\n",
              "   'min_samples_leaf': 2,\n",
              "   'min_samples_split': 10,\n",
              "   'n_estimators': 116},\n",
              "  {'bootstrap': True,\n",
              "   'max_depth': 73,\n",
              "   'min_samples_leaf': 4,\n",
              "   'min_samples_split': 10,\n",
              "   'n_estimators': 61},\n",
              "  {'bootstrap': False,\n",
              "   'max_depth': 157,\n",
              "   'min_samples_leaf': 4,\n",
              "   'min_samples_split': 2,\n",
              "   'n_estimators': 61},\n",
              "  {'bootstrap': False,\n",
              "   'max_depth': 178,\n",
              "   'min_samples_leaf': 1,\n",
              "   'min_samples_split': 10,\n",
              "   'n_estimators': 50},\n",
              "  {'bootstrap': False,\n",
              "   'max_depth': 178,\n",
              "   'min_samples_leaf': 4,\n",
              "   'min_samples_split': 10,\n",
              "   'n_estimators': 83},\n",
              "  {'bootstrap': True,\n",
              "   'max_depth': 115,\n",
              "   'min_samples_leaf': 1,\n",
              "   'min_samples_split': 5,\n",
              "   'n_estimators': 94},\n",
              "  {'bootstrap': True,\n",
              "   'max_depth': 94,\n",
              "   'min_samples_leaf': 2,\n",
              "   'min_samples_split': 10,\n",
              "   'n_estimators': 94},\n",
              "  {'bootstrap': False,\n",
              "   'max_depth': 157,\n",
              "   'min_samples_leaf': 2,\n",
              "   'min_samples_split': 2,\n",
              "   'n_estimators': 83},\n",
              "  {'bootstrap': True,\n",
              "   'max_depth': 10,\n",
              "   'min_samples_leaf': 4,\n",
              "   'min_samples_split': 2,\n",
              "   'n_estimators': 150},\n",
              "  {'bootstrap': False,\n",
              "   'max_depth': 31,\n",
              "   'min_samples_leaf': 2,\n",
              "   'min_samples_split': 2,\n",
              "   'n_estimators': 116},\n",
              "  {'bootstrap': False,\n",
              "   'max_depth': 10,\n",
              "   'min_samples_leaf': 4,\n",
              "   'min_samples_split': 10,\n",
              "   'n_estimators': 83},\n",
              "  {'bootstrap': False,\n",
              "   'max_depth': 94,\n",
              "   'min_samples_leaf': 1,\n",
              "   'min_samples_split': 10,\n",
              "   'n_estimators': 150},\n",
              "  {'bootstrap': True,\n",
              "   'max_depth': 52,\n",
              "   'min_samples_leaf': 4,\n",
              "   'min_samples_split': 2,\n",
              "   'n_estimators': 127},\n",
              "  {'bootstrap': False,\n",
              "   'max_depth': 157,\n",
              "   'min_samples_leaf': 4,\n",
              "   'min_samples_split': 5,\n",
              "   'n_estimators': 94},\n",
              "  {'bootstrap': False,\n",
              "   'max_depth': 115,\n",
              "   'min_samples_leaf': 1,\n",
              "   'min_samples_split': 5,\n",
              "   'n_estimators': 116},\n",
              "  {'bootstrap': False,\n",
              "   'max_depth': 73,\n",
              "   'min_samples_leaf': 2,\n",
              "   'min_samples_split': 10,\n",
              "   'n_estimators': 138},\n",
              "  {'bootstrap': False,\n",
              "   'max_depth': 31,\n",
              "   'min_samples_leaf': 1,\n",
              "   'min_samples_split': 10,\n",
              "   'n_estimators': 127},\n",
              "  {'bootstrap': True,\n",
              "   'max_depth': None,\n",
              "   'min_samples_leaf': 4,\n",
              "   'min_samples_split': 10,\n",
              "   'n_estimators': 94},\n",
              "  {'bootstrap': True,\n",
              "   'max_depth': 136,\n",
              "   'min_samples_leaf': 2,\n",
              "   'min_samples_split': 5,\n",
              "   'n_estimators': 72}],\n",
              " 'rank_test_score': array([12, 20, 14, 10,  1,  7,  3, 11,  6, 19, 17, 18,  5, 15,  9,  2, 13,\n",
              "        16,  4,  8], dtype=int32),\n",
              " 'split0_test_score': array([0.59144368, 0.23449423, 0.55451652, 0.62227308, 0.71802942,\n",
              "        0.62869842, 0.6832709 , 0.59742997, 0.64844267, 0.2318257 ,\n",
              "        0.47717511, 0.23545941, 0.66499923, 0.52706724, 0.6268744 ,\n",
              "        0.68952944, 0.58394031, 0.49261824, 0.67237544, 0.62908711]),\n",
              " 'split1_test_score': array([0.58867607, 0.21195885, 0.55194204, 0.62847404, 0.72172634,\n",
              "        0.63770681, 0.68446665, 0.59465241, 0.65206325, 0.21618894,\n",
              "        0.46936764, 0.23970864, 0.66734277, 0.5324993 , 0.63159767,\n",
              "        0.69251389, 0.58325708, 0.50123469, 0.67836427, 0.63444413]),\n",
              " 'split2_test_score': array([0.59704037, 0.22592562, 0.56966361, 0.62900233, 0.72566949,\n",
              "        0.63946453, 0.68520657, 0.60748466, 0.65986187, 0.22443919,\n",
              "        0.48072161, 0.22526957, 0.67158562, 0.53830324, 0.63637566,\n",
              "        0.69349439, 0.58972544, 0.51221346, 0.68057004, 0.63945593]),\n",
              " 'std_fit_time': array([0.59253015, 0.03983367, 0.0648725 , 0.9014728 , 0.5250151 ,\n",
              "        0.12220613, 0.14107376, 0.65804454, 0.37148145, 0.00822041,\n",
              "        0.09751724, 0.01135846, 1.31526393, 0.47958789, 1.10554295,\n",
              "        2.32538936, 0.62438143, 1.1182118 , 0.84036854, 0.36075541]),\n",
              " 'std_score_time': array([0.03455689, 0.00877227, 0.00672491, 0.0140805 , 0.00776986,\n",
              "        0.01192683, 0.00902282, 0.01695977, 0.00817305, 0.00633397,\n",
              "        0.01437886, 0.00909842, 0.01805611, 0.01808427, 0.00901234,\n",
              "        0.01533701, 0.0058089 , 0.01207673, 0.00918862, 0.06998828]),\n",
              " 'std_test_score': array([0.00347921, 0.0092876 , 0.00781818, 0.0030553 , 0.00311959,\n",
              "        0.00471581, 0.0007975 , 0.00551239, 0.00476475, 0.00638693,\n",
              "        0.00474279, 0.00605874, 0.00272589, 0.00458791, 0.00387889,\n",
              "        0.00168619, 0.00290161, 0.00801907, 0.00346222, 0.00423383])}"
            ]
          },
          "metadata": {},
          "execution_count": 43
        }
      ]
    },
    {
      "cell_type": "code",
      "source": [
        "# transform the random forest model on the test set:\n",
        "y_pred = pd.DataFrame(rf_random.predict(X_test))"
      ],
      "metadata": {
        "id": "iBgVgCpceSmu"
      },
      "execution_count": null,
      "outputs": []
    },
    {
      "cell_type": "code",
      "source": [
        "# calculate the score with the best hyper parameter and parameters\n",
        "from sklearn.model_selection import cross_val_score\n",
        "\n",
        "clf_rand = RandomForestClassifier(n_estimators = 50, min_samples_split = 10, min_samples_leaf = 1, max_depth = 178 ,max_features = 'auto', bootstrap = False)\n",
        "cross_val_score(clf_rand, X_train,y_train.values.ravel(), cv=3, scoring = 'accuracy')"
      ],
      "metadata": {
        "colab": {
          "base_uri": "https://localhost:8080/"
        },
        "id": "SbsYncjgecAL",
        "outputId": "d9bdcd13-f36e-4516-e7bc-87d37aa96c02"
      },
      "execution_count": null,
      "outputs": [
        {
          "output_type": "execute_result",
          "data": {
            "text/plain": [
              "array([0.72749541, 0.73145226, 0.73201752])"
            ]
          },
          "metadata": {},
          "execution_count": 45
        }
      ]
    },
    {
      "cell_type": "code",
      "source": [
        "#confusion matrix data\n",
        "import seaborn as sns\n",
        "matrix = confusion_matrix(y_test, y_pred)\n",
        "matrix = np.around(matrix.astype('float') / matrix.sum(axis=1)[:, np.newaxis], decimals=2)\n",
        "\n",
        "# Build the plot\n",
        "plt.figure(figsize=(18,7))\n",
        "sns.set(font_scale=1.4)\n",
        "sns.heatmap(matrix, annot=True, annot_kws={'size':10},\n",
        "            cmap=plt.cm.Greens, linewidths=0.2)\n",
        "\n",
        "# Add labels to the plot\n",
        "class_names = ['10', '40', '50', '60', '1140', '1160', '1180', '1280', '1281', '1300', '1301', '1302', '1320', '1560', '1920', '1940', '2060', '2220', '2280', '2403', '2462', '2522', '2582', '2583', '2585', '2705', '2905']\n",
        "tick_marks = np.arange(len(class_names))\n",
        "tick_marks2 = tick_marks + 0.5\n",
        "plt.xticks(tick_marks, class_names, rotation=45)\n",
        "plt.yticks(tick_marks2, class_names, rotation=0)\n",
        "plt.xlabel('Predicted label')\n",
        "plt.ylabel('True label')\n",
        "plt.title('Confusion Matrix for Random Forest Model (with 3 fold CV)')\n",
        "plt.show()"
      ],
      "metadata": {
        "colab": {
          "base_uri": "https://localhost:8080/",
          "height": 501
        },
        "id": "hy5h4IctTWFg",
        "outputId": "2a378bf4-0473-48a3-93c6-322f8002ef8f"
      },
      "execution_count": null,
      "outputs": [
        {
          "output_type": "display_data",
          "data": {
            "text/plain": [
              "<Figure size 1296x504 with 2 Axes>"
            ],
            "image/png": "[encoded data removed]"
          },
          "metadata": {}
        }
      ]
    },
    {
      "cell_type": "code",
      "source": [
        "# classification report of the model:\n",
        "report = classification_report(y_pred, y_test, output_dict=True)\n",
        "report_df = pd.DataFrame(report).T\n",
        "report_df.to_csv(\"classification_report_rf_clf_3foldcv.csv\")\n",
        "\n",
        "cr = pd.read_csv(\"classification_report_rf_clf_3foldcv.csv\", index_col=0)\n",
        "print(cr)\n",
        "cr_f1= cr.iloc[0:-3,:]\n",
        "cr_f1 = cr.sort_values(by= 'f1-score', axis=0, ascending=False)\n",
        "\n",
        "fig, ax1 = plt.subplots(figsize=(20, 10))\n",
        "sns.barplot(x=cr_f1.index, y='f1-score',  data = cr_f1, color = 'lightblue')\n",
        "# sns.barplot(x=cr_f1.index, y=cr_f1['precision'], color = 'orange')\n",
        "plt.xticks(tick_marks, cr_f1.index , rotation=45)\n",
        "plt.xlabel('prdtypecode')\n",
        "plt.ylabel('Score')\n",
        "plt.title('Classification Report for Random Forest Model (with 3 fold CV)')\n",
        "plt.show();"
      ],
      "metadata": {
        "colab": {
          "base_uri": "https://localhost:8080/",
          "height": 1000
        },
        "id": "a0lP0NAsUYj0",
        "outputId": "2fe24e45-db45-4f5f-ab3d-1ac91fb2a87b"
      },
      "execution_count": null,
      "outputs": [
        {
          "output_type": "stream",
          "name": "stdout",
          "text": [
            "              precision    recall  f1-score       support\n",
            "10             0.309493  0.530067  0.390805    449.000000\n",
            "40             0.503987  0.778325  0.611810    406.000000\n",
            "50             0.742574  0.835655  0.786370    359.000000\n",
            "60             0.869767  0.944444  0.905569    198.000000\n",
            "1140           0.728487  0.755385  0.741692    650.000000\n",
            "1160           0.902863  0.912190  0.907503    968.000000\n",
            "1180           0.391960  0.886364  0.543554     88.000000\n",
            "1280           0.592681  0.703494  0.643351   1059.000000\n",
            "1281           0.332669  0.585965  0.424396    285.000000\n",
            "1300           0.889595  0.876369  0.882933   1278.000000\n",
            "1301           0.854369  0.967033  0.907216    182.000000\n",
            "1302           0.686427  0.897959  0.778073    490.000000\n",
            "1320           0.637146  0.872054  0.736318    594.000000\n",
            "1560           0.835681  0.748423  0.789649   1427.000000\n",
            "1920           0.906161  0.878676  0.892207   1088.000000\n",
            "1940           0.427083  0.964706  0.592058     85.000000\n",
            "2060           0.802721  0.763137  0.782429   1237.000000\n",
            "2220           0.694301  0.911565  0.788235    147.000000\n",
            "2280           0.729201  0.646889  0.685583   1382.000000\n",
            "2403           0.736273  0.667421  0.700158   1326.000000\n",
            "2462           0.790831  0.752044  0.770950    367.000000\n",
            "2522           0.876680  0.882962  0.879810   1256.000000\n",
            "2582           0.573991  0.840263  0.682060    457.000000\n",
            "2583           0.982903  0.616459  0.757701   4010.000000\n",
            "2585           0.587326  0.900474  0.710945    422.000000\n",
            "2705           0.520451  0.456683  0.486486    808.000000\n",
            "2905           0.995215  0.985782  0.990476    211.000000\n",
            "accuracy       0.745207  0.745207  0.745207      0.745207\n",
            "macro avg      0.700031  0.798548  0.732161  21229.000000\n",
            "weighted avg   0.784837  0.745207  0.751609  21229.000000\n"
          ]
        },
        {
          "output_type": "display_data",
          "data": {
            "text/plain": [
              "<Figure size 1440x720 with 1 Axes>"
            ],
            "image/png": "[encoded data removed]"
          },
          "metadata": {}
        }
      ]
    },
    {
      "cell_type": "markdown",
      "source": [
        "# OBSERVATIONS:\n",
        "## f1 Score for the text mining and analysis is 0.751609\n",
        "## prediction Score for the text mining and analysis is 0.784837\n",
        "## recall Score for the text mining and analysis is 0.745207\n"
      ],
      "metadata": {
        "id": "r2EmAPMzD5WA"
      }
    },
    {
      "cell_type": "markdown",
      "source": [
        "## From the classification report, we notice that some products have f1 scoer greater than 0.9."
      ],
      "metadata": {
        "id": "7F45N9wYFlB4"
      }
    },
    {
      "cell_type": "markdown",
      "source": [
        ""
      ],
      "metadata": {
        "id": "0mE_gwKvF80z"
      }
    },
    {
      "cell_type": "code",
      "source": [
        "group = X_data_concat_word_count.copy()\n",
        "group['prdtypecode'] = Y_train['prdtypecode']\n",
        "del group['productid'], group['imageid'], group['desig_word_count'], group['descr_word_count'], group['description'],group['description_Tokenized']\n",
        "group_cat = group.groupby(group['prdtypecode'] == 2583)\n",
        "group_cat.head()"
      ],
      "metadata": {
        "colab": {
          "base_uri": "https://localhost:8080/",
          "height": 339
        },
        "id": "uA0GKGX2D4P3",
        "outputId": "7a1a7259-353b-4055-8f75-4392c61e7a67"
      },
      "execution_count": null,
      "outputs": [
        {
          "output_type": "execute_result",
          "data": {
            "text/plain": [
              "                                          designation  \\\n",
              "0   Olivia Personalisiertes Notizbuch   Seiten Pun...   \n",
              "1   Journal Des Arts Le N   Du       L art Et Son ...   \n",
              "2   Grand Stylet Ergonomique Bleu Gamepad Nintendo...   \n",
              "3   Peluche Donald Europe Disneyland   Marionnette...   \n",
              "4                                La Guerre Des Tuques   \n",
              "20        Kit de désinfection pour piscines enfants     \n",
              "39                Bouée gonflable River tube OOGARDEN   \n",
              "53                         Testeur électronique de pH   \n",
              "58                   Pompe de filtration Speck Badu     \n",
              "64     AstralCom   CV Mono de DAB Surpresseur piscine   \n",
              "\n",
              "                                designation_Tokenized  prdtypecode  \n",
              "0   {0: ['olivia', 'personalisiertes', 'notizbuch'...         10.0  \n",
              "1   {0: ['journal', 'arts', 'art', 'marche', 'salo...       2280.0  \n",
              "2   {0: ['grand', 'stylet', 'ergonomique', 'bleu',...         50.0  \n",
              "3   {0: ['peluche', 'donald', 'europe', 'disneylan...       1280.0  \n",
              "4                           {0: ['guerre', 'tuques']}       2705.0  \n",
              "20  {0: ['kit', 'désinfection', 'piscines', 'enfan...       2583.0  \n",
              "39  {0: ['bouée', 'gonflable', 'river', 'tube', 'o...       2583.0  \n",
              "53             {0: ['testeur', 'électronique', 'ph']}       2583.0  \n",
              "58      {0: ['pompe', 'filtration', 'speck', 'badu']}       2583.0  \n",
              "64  {0: ['astralcom', 'cv', 'mono', 'dab', 'surpre...       2583.0  "
            ],
            "text/html": [
              "\n",
              "  <div id=\"df-a5863925-9100-452d-ae84-b06597a4ac55\">\n",
              "    <div class=\"colab-df-container\">\n",
              "      <div>\n",
              "<style scoped>\n",
              "    .dataframe tbody tr th:only-of-type {\n",
              "        vertical-align: middle;\n",
              "    }\n",
              "\n",
              "    .dataframe tbody tr th {\n",
              "        vertical-align: top;\n",
              "    }\n",
              "\n",
              "    .dataframe thead th {\n",
              "        text-align: right;\n",
              "    }\n",
              "</style>\n",
              "<table border=\"1\" class=\"dataframe\">\n",
              "  <thead>\n",
              "    <tr style=\"text-align: right;\">\n",
              "      <th></th>\n",
              "      <th>designation</th>\n",
              "      <th>designation_Tokenized</th>\n",
              "      <th>prdtypecode</th>\n",
              "    </tr>\n",
              "  </thead>\n",
              "  <tbody>\n",
              "    <tr>\n",
              "      <th>0</th>\n",
              "      <td>Olivia Personalisiertes Notizbuch   Seiten Pun...</td>\n",
              "      <td>{0: ['olivia', 'personalisiertes', 'notizbuch'...</td>\n",
              "      <td>10.0</td>\n",
              "    </tr>\n",
              "    <tr>\n",
              "      <th>1</th>\n",
              "      <td>Journal Des Arts Le N   Du       L art Et Son ...</td>\n",
              "      <td>{0: ['journal', 'arts', 'art', 'marche', 'salo...</td>\n",
              "      <td>2280.0</td>\n",
              "    </tr>\n",
              "    <tr>\n",
              "      <th>2</th>\n",
              "      <td>Grand Stylet Ergonomique Bleu Gamepad Nintendo...</td>\n",
              "      <td>{0: ['grand', 'stylet', 'ergonomique', 'bleu',...</td>\n",
              "      <td>50.0</td>\n",
              "    </tr>\n",
              "    <tr>\n",
              "      <th>3</th>\n",
              "      <td>Peluche Donald Europe Disneyland   Marionnette...</td>\n",
              "      <td>{0: ['peluche', 'donald', 'europe', 'disneylan...</td>\n",
              "      <td>1280.0</td>\n",
              "    </tr>\n",
              "    <tr>\n",
              "      <th>4</th>\n",
              "      <td>La Guerre Des Tuques</td>\n",
              "      <td>{0: ['guerre', 'tuques']}</td>\n",
              "      <td>2705.0</td>\n",
              "    </tr>\n",
              "    <tr>\n",
              "      <th>20</th>\n",
              "      <td>Kit de désinfection pour piscines enfants</td>\n",
              "      <td>{0: ['kit', 'désinfection', 'piscines', 'enfan...</td>\n",
              "      <td>2583.0</td>\n",
              "    </tr>\n",
              "    <tr>\n",
              "      <th>39</th>\n",
              "      <td>Bouée gonflable River tube OOGARDEN</td>\n",
              "      <td>{0: ['bouée', 'gonflable', 'river', 'tube', 'o...</td>\n",
              "      <td>2583.0</td>\n",
              "    </tr>\n",
              "    <tr>\n",
              "      <th>53</th>\n",
              "      <td>Testeur électronique de pH</td>\n",
              "      <td>{0: ['testeur', 'électronique', 'ph']}</td>\n",
              "      <td>2583.0</td>\n",
              "    </tr>\n",
              "    <tr>\n",
              "      <th>58</th>\n",
              "      <td>Pompe de filtration Speck Badu</td>\n",
              "      <td>{0: ['pompe', 'filtration', 'speck', 'badu']}</td>\n",
              "      <td>2583.0</td>\n",
              "    </tr>\n",
              "    <tr>\n",
              "      <th>64</th>\n",
              "      <td>AstralCom   CV Mono de DAB Surpresseur piscine</td>\n",
              "      <td>{0: ['astralcom', 'cv', 'mono', 'dab', 'surpre...</td>\n",
              "      <td>2583.0</td>\n",
              "    </tr>\n",
              "  </tbody>\n",
              "</table>\n",
              "</div>\n",
              "      <button class=\"colab-df-convert\" onclick=\"convertToInteractive('df-a5863925-9100-452d-ae84-b06597a4ac55')\"\n",
              "              title=\"Convert this dataframe to an interactive table.\"\n",
              "              style=\"display:none;\">\n",
              "        \n",
              "  <svg xmlns=\"http://www.w3.org/2000/svg\" height=\"24px\"viewBox=\"0 0 24 24\"\n",
              "       width=\"24px\">\n",
              "    <path d=\"M0 0h24v24H0V0z\" fill=\"none\"/>\n",
              "    <path d=\"M18.56 5.44l.94 2.06.94-2.06 2.06-.94-2.06-.94-.94-2.06-.94 2.06-2.06.94zm-11 1L8.5 8.5l.94-2.06 2.06-.94-2.06-.94L8.5 2.5l-.94 2.06-2.06.94zm10 10l.94 2.06.94-2.06 2.06-.94-2.06-.94-.94-2.06-.94 2.06-2.06.94z\"/><path d=\"M17.41 7.96l-1.37-1.37c-.4-.4-.92-.59-1.43-.59-.52 0-1.04.2-1.43.59L10.3 9.45l-7.72 7.72c-.78.78-.78 2.05 0 2.83L4 21.41c.39.39.9.59 1.41.59.51 0 1.02-.2 1.41-.59l7.78-7.78 2.81-2.81c.8-.78.8-2.07 0-2.86zM5.41 20L4 18.59l7.72-7.72 1.47 1.35L5.41 20z\"/>\n",
              "  </svg>\n",
              "      </button>\n",
              "      \n",
              "  <style>\n",
              "    .colab-df-container {\n",
              "      display:flex;\n",
              "      flex-wrap:wrap;\n",
              "      gap: 12px;\n",
              "    }\n",
              "\n",
              "    .colab-df-convert {\n",
              "      background-color: #E8F0FE;\n",
              "      border: none;\n",
              "      border-radius: 50%;\n",
              "      cursor: pointer;\n",
              "      display: none;\n",
              "      fill: #1967D2;\n",
              "      height: 32px;\n",
              "      padding: 0 0 0 0;\n",
              "      width: 32px;\n",
              "    }\n",
              "\n",
              "    .colab-df-convert:hover {\n",
              "      background-color: #E2EBFA;\n",
              "      box-shadow: 0px 1px 2px rgba(60, 64, 67, 0.3), 0px 1px 3px 1px rgba(60, 64, 67, 0.15);\n",
              "      fill: #174EA6;\n",
              "    }\n",
              "\n",
              "    [theme=dark] .colab-df-convert {\n",
              "      background-color: #3B4455;\n",
              "      fill: #D2E3FC;\n",
              "    }\n",
              "\n",
              "    [theme=dark] .colab-df-convert:hover {\n",
              "      background-color: #434B5C;\n",
              "      box-shadow: 0px 1px 3px 1px rgba(0, 0, 0, 0.15);\n",
              "      filter: drop-shadow(0px 1px 2px rgba(0, 0, 0, 0.3));\n",
              "      fill: #FFFFFF;\n",
              "    }\n",
              "  </style>\n",
              "\n",
              "      <script>\n",
              "        const buttonEl =\n",
              "          document.querySelector('#df-a5863925-9100-452d-ae84-b06597a4ac55 button.colab-df-convert');\n",
              "        buttonEl.style.display =\n",
              "          google.colab.kernel.accessAllowed ? 'block' : 'none';\n",
              "\n",
              "        async function convertToInteractive(key) {\n",
              "          const element = document.querySelector('#df-a5863925-9100-452d-ae84-b06597a4ac55');\n",
              "          const dataTable =\n",
              "            await google.colab.kernel.invokeFunction('convertToInteractive',\n",
              "                                                     [key], {});\n",
              "          if (!dataTable) return;\n",
              "\n",
              "          const docLinkHtml = 'Like what you see? Visit the ' +\n",
              "            '<a target=\"_blank\" href=https://colab.research.google.com/notebooks/data_table.ipynb>data table notebook</a>'\n",
              "            + ' to learn more about interactive tables.';\n",
              "          element.innerHTML = '';\n",
              "          dataTable['output_type'] = 'display_data';\n",
              "          await google.colab.output.renderOutput(dataTable, element);\n",
              "          const docLink = document.createElement('div');\n",
              "          docLink.innerHTML = docLinkHtml;\n",
              "          element.appendChild(docLink);\n",
              "        }\n",
              "      </script>\n",
              "    </div>\n",
              "  </div>\n",
              "  "
            ]
          },
          "metadata": {},
          "execution_count": 50
        }
      ]
    }
  ]
}